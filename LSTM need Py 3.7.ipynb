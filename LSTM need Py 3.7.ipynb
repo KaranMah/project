{
 "cells": [
  {
   "cell_type": "code",
   "execution_count": 3,
   "metadata": {},
   "outputs": [],
   "source": [
    "%matplotlib inline\n",
    "\n",
    "import json\n",
    "import math\n",
    "import pprint\n",
    "import numpy as np\n",
    "import pandas as pd\n",
    "import matplotlib.pyplot as plt\n",
    "\n",
    "from sklearn.preprocessing import *\n",
    "from sklearn.model_selection import train_test_split\n",
    "from sklearn.metrics import mean_squared_error,r2_score, f1_score, precision_score, recall_score, roc_auc_score, confusion_matrix"
   ]
  },
  {
   "cell_type": "code",
   "execution_count": 60,
   "metadata": {
    "scrolled": true
   },
   "outputs": [],
   "source": [
    "from keras.models import Sequential\n",
    "from keras.layers import Dense, LSTM, Flatten, Bidirectional"
   ]
  },
  {
   "cell_type": "code",
   "execution_count": 5,
   "metadata": {},
   "outputs": [],
   "source": [
    "forex = pd.read_csv('prep_forex.csv', header=[0,1], index_col=0)\n",
    "index = pd.read_csv('prep_index.csv', header=[0,1,2], index_col=0)\n"
   ]
  },
  {
   "cell_type": "code",
   "execution_count": 29,
   "metadata": {},
   "outputs": [],
   "source": [
    "forex_pairs = list(set([x[1] for x in forex.columns if x[0] == 'Close']))\n",
    "index_pairs = list(set([(x[1], x[2]) for x in index.columns if x[0] == 'Close']))\n",
    "\n",
    "scalers = [None, MinMaxScaler, MaxAbsScaler, StandardScaler, RobustScaler, Normalizer,\n",
    "           QuantileTransformer, PowerTransformer, FunctionTransformer]\n",
    "\n",
    "metric = 'Close_Ret'\n",
    "metrics = ['Open', 'Close', 'Low', 'High', 'Volume']\n",
    "# target = [metric]\n",
    "features = ['Intraday_OC', 'Prev_close_open'] + [y+x for x in ['_Ret', '_MTD', '_YTD'] for y in metrics]# if (x+y) not in target]\n"
   ]
  },
  {
   "cell_type": "code",
   "execution_count": 7,
   "metadata": {},
   "outputs": [],
   "source": [
    "def plot_results(y_true, y_pred, model):\n",
    "    plot_df = pd.concat([pd.DataFrame(y_true), pd.DataFrame(y_pred)], axis=1, ignore_index=True)\n",
    "    plt.figure()\n",
    "    plt.plot(plot_df)\n",
    "    plt.title(\"LSTM\")"
   ]
  },
  {
   "cell_type": "code",
   "execution_count": 94,
   "metadata": {},
   "outputs": [],
   "source": [
    "def split_scale(X, y, scaler):\n",
    "    X_train, X_test, y_train, y_test = train_test_split(X, y, shuffle=False, test_size=0.2)\n",
    "    if(scaler):\n",
    "        scaler_X = scaler()\n",
    "        if(scaler == scalers[-1]):\n",
    "            scaler_X = scaler(np.log1p)\n",
    "        scaler_X = scaler_X.fit(X_train)\n",
    "        X_train = scaler_X.transform(X_train)\n",
    "        X_test = scaler_X.transform(X_test)\n",
    "        scaler_y = scaler()\n",
    "        if(scaler == scalers[-1]):\n",
    "            scaler_y = scaler(np.log1p)\n",
    "        try:\n",
    "            scaler_y = scaler_y.fit(y_train.values.reshape(-1,1))\n",
    "            y_train = scaler_y.transform(y_train.values.reshape(-1, 1))\n",
    "        except:\n",
    "            y_train = np.nan_to_num(y_train, posinf=1, neginf=-1)\n",
    "            scaler_y = scaler_y.fit(y_train.reshape(-1,1))\n",
    "            y_train = scaler_y.transform(y_train.reshape(-1, 1))\n",
    "        try:\n",
    "            y_test = scaler_y.transform(y_test.values.reshape(-1, 1))\n",
    "        except:\n",
    "            y_test = np.nan_to_num(y_test, posinf=1, neginf=-1)\n",
    "            y_test = scaler_y.transform(y_test.reshape(-1, 1))\n",
    "    return(X_train, X_test, y_train, y_test)\n",
    "\n",
    "\n",
    "def check_bins(real, pred):\n",
    "    try:\n",
    "        y_test = Binarizer().transform(pd.DataFrame(real).pct_change().dropna())\n",
    "        y_pred = Binarizer().transform(pd.DataFrame(pred).pct_change().dropna())\n",
    "    except:\n",
    "        y_test = Binarizer().transform(pd.DataFrame(real))\n",
    "        y_pred = Binarizer().transform(pd.DataFrame(pred))\n",
    "    print(confusion_matrix(y_test, y_pred))\n",
    "    return({\"F1\" :f1_score(y_test, y_pred, average='weighted'),\n",
    "        \"Precision\": precision_score(y_test, y_pred, average='weighted'),\n",
    "        \"Recall\": recall_score(y_test, y_pred, average='weighted')})\n",
    "\n",
    "def save_to_csv(real, pred):\n",
    "    save_data = pd.DataFrame(columns = ['y_true_class', 'y_pred_class', 'y_true_reg', 'y_pred_reg'], index = real.index)\n",
    "    save_data['y_true_reg'] = real.values\n",
    "    save_data['y_pred_reg'] = pred\n",
    "    if(metric[-3:] == 'Ret'):\n",
    "        save_data['y_true_class'] = np.sign(save_data['y_true_reg'])\n",
    "        save_data['y_pred_class'] = np.sign(save_data['y_pred_reg'])\n",
    "    else:\n",
    "        save_data['y_true_class'] = np.sign(save_data['y_true_reg'].pct_change())\n",
    "        save_data['y_pred_class'] = np.sign(save_data['y_pred_reg'].pct_change())\n",
    "    save_data.to_csv(real.columns[0][1]+\"_\"+real.columns[0][0]+\"_LSTM.csv\")"
   ]
  },
  {
   "cell_type": "code",
   "execution_count": 90,
   "metadata": {},
   "outputs": [],
   "source": [
    "def do_forex_lstm(cur, target, is_exog=False, transf = None):\n",
    "    forex_cols = [x for x in forex.columns if x[1] == cur]\n",
    "    X = forex[[col for col in forex_cols if col[0] in features + ['Time features']]][:-1]\n",
    "    y = forex[[col for col in forex_cols if col[0] == metric]].shift(-1)[:-1]\n",
    "    X_train, X_test, y_train, y_test = split_scale(X, y, transf)\n",
    "    res, y_pred = run_lstm_model((X_train, y_train), (X_test, y_test), features, target, is_exog)\n",
    "    save_to_csv(y_test, y_pred)\n",
    "    metrics = check_bins(y_test, y_pred)\n",
    "    res.update(metrics)\n",
    "    return(res)\n",
    "\n",
    "def do_index_lstm(cur, target, is_exog=False, transf = None):\n",
    "    index_cols = [x for x in index.columns if x[1] == cur[0] and x[2] == cur[1]]\n",
    "    X = index[[col for col in index_cols if col[0] in features + ['Time features']]][:-1]\n",
    "    y = index[[col for col in index_cols if col[0] == metric]].shift(-1)[:-1]\n",
    "    X = X.dropna(how='any')\n",
    "    y = y[y.index.isin(X.index)]\n",
    "    X_train, X_test, y_train, y_test = split_scale(X, y, transf)\n",
    "    res, y_pred = run_lstm_model((X_train, y_train), (X_test, y_test), features, target, is_exog)\n",
    "    save_to_csv(y_test, y_pred)\n",
    "    metrics = check_bins(y_test, y_pred)\n",
    "    return(res.update(metrics))\n"
   ]
  },
  {
   "cell_type": "code",
   "execution_count": 91,
   "metadata": {},
   "outputs": [],
   "source": [
    "def run_lstm_model(train, test, features, target, is_exog=False):\n",
    "    train_X, train_y = train\n",
    "    test_X, test_y = test\n",
    "    if(not is_exog):\n",
    "        X_train = None\n",
    "    train_X = train_X.values.reshape((train_X.shape[0], 1, train_X.shape[1]))\n",
    "    test_X = test_X.values.reshape((test_X.shape[0], 1, test_X.shape[1]))\n",
    "    print(train_X.shape, train_y.shape, test_X.shape, test_y.shape)\n",
    "    model = Sequential()\n",
    "    model.add(LSTM(100, input_shape=(train_X.shape[1], train_X.shape[2]), return_sequences=True))\n",
    "#     model.add(LSTM(100))\n",
    "    model.add(Dense(100))\n",
    "#     model.add(Dense(50))\n",
    "    model.add(Flatten())\n",
    "    model.add(Dense(1))\n",
    "    model.compile(loss='mse', optimizer='adam')\n",
    "    history = model.fit(train_X, train_y, epochs=50, batch_size=72, validation_data=(test_X, test_y), verbose=2, shuffle=False)\n",
    "    # plot history\n",
    "    plt.plot(history.history['loss'], label='train')\n",
    "    plt.plot(history.history['val_loss'], label='test')\n",
    "    plt.legend()\n",
    "    plt.show()\n",
    "    yhat = model.predict(test_X)\n",
    "    test_X = test_X.reshape((test_X.shape[0], test_X.shape[2]))\n",
    "    # invert scaling for forecast\n",
    "    yhat = yhat[:,0]\n",
    "    # invert scaling for actual\n",
    "    test_y = test_y.values.reshape((len(test_y), 1))\n",
    "    test_y = test_y[:,0]\n",
    "    # calculate RMSE\n",
    "    rmse = np.sqrt(mean_squared_error(test_y, yhat))\n",
    "    print('Test RMSE: %.3f' % rmse)\n",
    "    print('Test R2: %.3f' % r2_score(test_y, yhat))\n",
    "    plot_results(test_y, yhat, model)\n",
    "    return({}, yhat)"
   ]
  },
  {
   "cell_type": "code",
   "execution_count": 95,
   "metadata": {},
   "outputs": [
    {
     "name": "stdout",
     "output_type": "stream",
     "text": [
      "(2085, 1, 14) (2085, 1) (522, 1, 14) (522, 1)\n",
      "Train on 2085 samples, validate on 522 samples\n",
      "Epoch 1/50\n",
      " - 10s - loss: 5946.2909 - val_loss: 6909.9110\n",
      "Epoch 2/50\n",
      " - 0s - loss: 5657.0524 - val_loss: 6376.8531\n",
      "Epoch 3/50\n",
      " - 0s - loss: 4860.8350 - val_loss: 5109.3472\n",
      "Epoch 4/50\n",
      " - 0s - loss: 3330.6706 - val_loss: 3038.7508\n",
      "Epoch 5/50\n",
      " - 0s - loss: 1416.3405 - val_loss: 976.2215\n",
      "Epoch 6/50\n",
      " - 0s - loss: 212.1053 - val_loss: 114.7043\n",
      "Epoch 7/50\n",
      " - 0s - loss: 21.9092 - val_loss: 32.7689\n",
      "Epoch 8/50\n",
      " - 0s - loss: 31.3432 - val_loss: 43.6322\n",
      "Epoch 9/50\n",
      " - 0s - loss: 27.4378 - val_loss: 45.1312\n",
      "Epoch 10/50\n",
      " - 0s - loss: 25.1638 - val_loss: 43.6966\n",
      "Epoch 11/50\n",
      " - 0s - loss: 23.8242 - val_loss: 43.2466\n",
      "Epoch 12/50\n",
      " - 0s - loss: 22.5696 - val_loss: 42.8961\n",
      "Epoch 13/50\n",
      " - 0s - loss: 21.4951 - val_loss: 42.5730\n",
      "Epoch 14/50\n",
      " - 0s - loss: 20.6007 - val_loss: 42.3144\n",
      "Epoch 15/50\n",
      " - 0s - loss: 19.8565 - val_loss: 42.0997\n",
      "Epoch 16/50\n",
      " - 0s - loss: 19.2439 - val_loss: 41.9188\n",
      "Epoch 17/50\n",
      " - 0s - loss: 18.7446 - val_loss: 41.7653\n",
      "Epoch 18/50\n",
      " - 0s - loss: 18.3422 - val_loss: 41.6322\n",
      "Epoch 19/50\n",
      " - 0s - loss: 18.0204 - val_loss: 41.5120\n",
      "Epoch 20/50\n",
      " - 0s - loss: 17.7666 - val_loss: 41.4017\n",
      "Epoch 21/50\n",
      " - 0s - loss: 17.5684 - val_loss: 41.2954\n",
      "Epoch 22/50\n",
      " - 0s - loss: 17.4167 - val_loss: 41.1922\n",
      "Epoch 23/50\n",
      " - 0s - loss: 17.3012 - val_loss: 41.0876\n",
      "Epoch 24/50\n",
      " - 0s - loss: 17.2150 - val_loss: 40.9782\n",
      "Epoch 25/50\n",
      " - 0s - loss: 17.1558 - val_loss: 40.8751\n",
      "Epoch 26/50\n",
      " - 0s - loss: 17.1119 - val_loss: 40.7592\n",
      "Epoch 27/50\n",
      " - 0s - loss: 17.0852 - val_loss: 40.6431\n",
      "Epoch 28/50\n",
      " - 0s - loss: 17.0693 - val_loss: 40.5210\n",
      "Epoch 29/50\n",
      " - 0s - loss: 17.0637 - val_loss: 40.3962\n",
      "Epoch 30/50\n",
      " - 0s - loss: 17.0646 - val_loss: 40.2667\n",
      "Epoch 31/50\n",
      " - 0s - loss: 17.0717 - val_loss: 40.1337\n",
      "Epoch 32/50\n",
      " - 0s - loss: 17.0829 - val_loss: 39.9988\n",
      "Epoch 33/50\n",
      " - 0s - loss: 17.0975 - val_loss: 39.8601\n",
      "Epoch 34/50\n",
      " - 0s - loss: 17.1158 - val_loss: 39.7214\n",
      "Epoch 35/50\n",
      " - 0s - loss: 17.1350 - val_loss: 39.5802\n",
      "Epoch 36/50\n",
      " - 0s - loss: 17.1566 - val_loss: 39.4390\n",
      "Epoch 37/50\n",
      " - 0s - loss: 17.1783 - val_loss: 39.2956\n",
      "Epoch 38/50\n",
      " - 0s - loss: 17.2030 - val_loss: 39.1549\n",
      "Epoch 39/50\n",
      " - 0s - loss: 17.2268 - val_loss: 39.0136\n",
      "Epoch 40/50\n",
      " - 0s - loss: 17.2514 - val_loss: 38.8723\n",
      "Epoch 41/50\n",
      " - 0s - loss: 17.2761 - val_loss: 38.7314\n",
      "Epoch 42/50\n",
      " - 0s - loss: 17.3015 - val_loss: 38.5928\n",
      "Epoch 43/50\n",
      " - 0s - loss: 17.3265 - val_loss: 38.4567\n",
      "Epoch 44/50\n",
      " - 0s - loss: 17.3508 - val_loss: 38.3194\n",
      "Epoch 45/50\n",
      " - 0s - loss: 17.3767 - val_loss: 38.1874\n",
      "Epoch 46/50\n",
      " - 0s - loss: 17.4006 - val_loss: 38.0539\n",
      "Epoch 47/50\n",
      " - 0s - loss: 17.4253 - val_loss: 37.9239\n",
      "Epoch 48/50\n",
      " - 0s - loss: 17.4493 - val_loss: 37.7961\n",
      "Epoch 49/50\n",
      " - 0s - loss: 17.4733 - val_loss: 37.6699\n",
      "Epoch 50/50\n",
      " - 0s - loss: 17.4966 - val_loss: 37.5467\n"
     ]
    },
    {
     "data": {
      "image/png": "[encoded data removed]",
      "text/plain": [
       "<Figure size 432x288 with 1 Axes>"
      ]
     },
     "metadata": {
      "needs_background": "light"
     },
     "output_type": "display_data"
    },
    {
     "name": "stdout",
     "output_type": "stream",
     "text": [
      "Test RMSE: 6.128\n",
      "Test R2: -101.219\n",
      "[[169 146]\n",
      " [110  96]]\n"
     ]
    },
    {
     "name": "stderr",
     "output_type": "stream",
     "text": [
      "C:\\Users\\shubh31\\Anaconda3\\lib\\site-packages\\ipykernel_launcher.py:48: RuntimeWarning: invalid value encountered in sign\n",
      "C:\\Users\\shubh31\\Anaconda3\\lib\\site-packages\\ipykernel_launcher.py:49: RuntimeWarning: invalid value encountered in sign\n"
     ]
    },
    {
     "data": {
      "text/plain": [
       "{'F1': 0.5134897092670606,\n",
       " 'Precision': 0.5230814968855395,\n",
       " 'Recall': 0.508637236084453}"
      ]
     },
     "execution_count": 95,
     "metadata": {},
     "output_type": "execute_result"
    },
    {
     "data": {
      "image/png": "[encoded data removed]",
      "text/plain": [
       "<Figure size 432x288 with 1 Axes>"
      ]
     },
     "metadata": {
      "needs_background": "light"
     },
     "output_type": "display_data"
    }
   ],
   "source": [
    "metric = 'Close'\n",
    "do_forex_lstm('BDT', metric, True, None)"
   ]
  }
 ],
 "metadata": {
  "kernelspec": {
   "display_name": "Python 3",
   "language": "python",
   "name": "python3"
  },
  "language_info": {
   "codemirror_mode": {
    "name": "ipython",
    "version": 3
   },
   "file_extension": ".py",
   "mimetype": "text/x-python",
   "name": "python",
   "nbconvert_exporter": "python",
   "pygments_lexer": "ipython3",
   "version": "3.7.1"
  }
 },
 "nbformat": 4,
 "nbformat_minor": 2
}
