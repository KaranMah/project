{
 "cells": [
  {
   "cell_type": "code",
   "execution_count": 3,
   "metadata": {},
   "outputs": [],
   "source": [
    "%matplotlib inline\n",
    "\n",
    "import json\n",
    "import math\n",
    "import pprint\n",
    "import numpy as np\n",
    "import pandas as pd\n",
    "import matplotlib.pyplot as plt\n",
    "\n",
    "from sklearn.preprocessing import *\n",
    "from sklearn.model_selection import train_test_split\n",
    "from sklearn.metrics import mean_squared_error,r2_score, f1_score, precision_score, recall_score, roc_auc_score, confusion_matrix"
   ]
  },
  {
   "cell_type": "code",
   "execution_count": 60,
   "metadata": {
    "scrolled": true
   },
   "outputs": [],
   "source": [
    "from keras.models import Sequential\n",
    "from keras.layers import Dense, LSTM, Flatten, Bidirectional"
   ]
  },
  {
   "cell_type": "code",
   "execution_count": 5,
   "metadata": {},
   "outputs": [],
   "source": [
    "forex = pd.read_csv('prep_forex.csv', header=[0,1], index_col=0)\n",
    "index = pd.read_csv('prep_index.csv', header=[0,1,2], index_col=0)\n"
   ]
  },
  {
   "cell_type": "code",
   "execution_count": 29,
   "metadata": {},
   "outputs": [],
   "source": [
    "forex_pairs = list(set([x[1] for x in forex.columns if x[0] == 'Close']))\n",
    "index_pairs = list(set([(x[1], x[2]) for x in index.columns if x[0] == 'Close']))\n",
    "\n",
    "scalers = [None, MinMaxScaler, MaxAbsScaler, StandardScaler, RobustScaler, Normalizer,\n",
    "           QuantileTransformer, PowerTransformer, FunctionTransformer]\n",
    "\n",
    "metric = 'Close_Ret'\n",
    "metrics = ['Open', 'Close', 'Low', 'High', 'Volume']\n",
    "# target = [metric]\n",
    "features = ['Intraday_OC', 'Prev_close_open'] + [y+x for x in ['_Ret', '_MTD', '_YTD'] for y in metrics]# if (x+y) not in target]\n"
   ]
  },
  {
   "cell_type": "code",
   "execution_count": 7,
   "metadata": {},
   "outputs": [],
   "source": [
    "def plot_results(y_true, y_pred, model):\n",
    "    plot_df = pd.concat([pd.DataFrame(y_true), pd.DataFrame(y_pred)], axis=1, ignore_index=True)\n",
    "    plt.figure()\n",
    "    plt.plot(plot_df)\n",
    "    plt.title(\"LSTM\")"
   ]
  },
  {
   "cell_type": "code",
   "execution_count": 8,
   "metadata": {},
   "outputs": [],
   "source": [
    "def split_scale(X, y, scaler):\n",
    "    X_train, X_test, y_train, y_test = train_test_split(X, y, shuffle=False, test_size=0.2)\n",
    "    if(scaler):\n",
    "        scaler_X = scaler()\n",
    "        if(scaler == scalers[-1]):\n",
    "            scaler_X = scaler(np.log1p)\n",
    "        scaler_X = scaler_X.fit(X_train)\n",
    "        X_train = scaler_X.transform(X_train)\n",
    "        X_test = scaler_X.transform(X_test)\n",
    "        scaler_y = scaler()\n",
    "        if(scaler == scalers[-1]):\n",
    "            scaler_y = scaler(np.log1p)\n",
    "        try:\n",
    "            scaler_y = scaler_y.fit(y_train.values.reshape(-1,1))\n",
    "            y_train = scaler_y.transform(y_train.values.reshape(-1, 1))\n",
    "        except:\n",
    "            y_train = np.nan_to_num(y_train, posinf=1, neginf=-1)\n",
    "            scaler_y = scaler_y.fit(y_train.reshape(-1,1))\n",
    "            y_train = scaler_y.transform(y_train.reshape(-1, 1))\n",
    "        try:\n",
    "            y_test = scaler_y.transform(y_test.values.reshape(-1, 1))\n",
    "        except:\n",
    "            y_test = np.nan_to_num(y_test, posinf=1, neginf=-1)\n",
    "            y_test = scaler_y.transform(y_test.reshape(-1, 1))\n",
    "    return(X_train, X_test, y_train, y_test)\n",
    "\n",
    "\n",
    "def check_bins(real, pred):\n",
    "    try:\n",
    "        y_test = Binarizer().transform(pd.DataFrame(real).pct_change().dropna())\n",
    "        y_pred = Binarizer().transform(pd.DataFrame(pred).pct_change().dropna())\n",
    "    except:\n",
    "        y_test = Binarizer().transform(pd.DataFrame(real))\n",
    "        y_pred = Binarizer().transform(pd.DataFrame(pred))\n",
    "    print(confusion_matrix(y_test, y_pred))\n",
    "    return({\"F1\" :f1_score(y_test, y_pred, average='weighted'),\n",
    "        \"Precision\": precision_score(y_test, y_pred, average='weighted'),\n",
    "        \"Recall\": recall_score(y_test, y_pred, average='weighted')})\n"
   ]
  },
  {
   "cell_type": "code",
   "execution_count": 23,
   "metadata": {},
   "outputs": [],
   "source": [
    "def do_forex_lstm(cur, target, is_exog=False, transf = None):\n",
    "    forex_cols = [x for x in forex.columns if x[1] == cur]\n",
    "    X = forex[[col for col in forex_cols if col[0] in features + ['Time features']]][:-1]\n",
    "    y = forex[[col for col in forex_cols if col[0] == metric]].shift(-1)[:-1]\n",
    "    X_train, X_test, y_train, y_test = split_scale(X, y, transf)\n",
    "    res, y_pred = run_lstm_model((X_train, y_train), (X_test, y_test), features, target, is_exog)\n",
    "    metrics = check_bins(y_test, y_pred)\n",
    "    res.update(metrics)\n",
    "    return(res)\n",
    "\n",
    "def do_index_lstm(cur, target, is_exog=False, transf = None):\n",
    "    index_cols = [x for x in index.columns if x[1] == cur[0] and x[2] == cur[1]]\n",
    "    X = index[[col for col in index_cols if col[0] in features + ['Time features']]][:-1]\n",
    "    y = index[[col for col in index_cols if col[0] == metric]].shift(-1)[:-1]\n",
    "    X = X.dropna(how='any')\n",
    "    y = y[y.index.isin(X.index)]\n",
    "    X_train, X_test, y_train, y_test = split_scale(X, y, transf)\n",
    "    res, y_pred = run_lstm_model((X_train, y_train), (X_test, y_test), features, target, is_exog)\n",
    "    metrics = check_bins(y_test, y_pred)\n",
    "    return(res.update(metrics))\n"
   ]
  },
  {
   "cell_type": "code",
   "execution_count": 70,
   "metadata": {},
   "outputs": [],
   "source": [
    "def run_lstm_model(train, test, features, target, is_exog=False):\n",
    "    train_X, train_y = train\n",
    "    test_X, test_y = test\n",
    "    if(not is_exog):\n",
    "        X_train = None\n",
    "    train_X = train_X.values.reshape((train_X.shape[0], 1, train_X.shape[1]))\n",
    "    test_X = test_X.values.reshape((test_X.shape[0], 1, test_X.shape[1]))\n",
    "    print(train_X.shape, train_y.shape, test_X.shape, test_y.shape)\n",
    "    model = Sequential()\n",
    "    model.add(LSTM(100, input_shape=(train_X.shape[1], train_X.shape[2]), return_sequences=True))\n",
    "#     model.add(LSTM(100))\n",
    "#     model.add(Dense(100))\n",
    "    model.add(Dense(50))\n",
    "    model.add(Flatten())\n",
    "    model.add(Dense(1))\n",
    "    model.compile(loss='mse', optimizer='adam')\n",
    "    history = model.fit(train_X, train_y, epochs=50, batch_size=72, validation_data=(test_X, test_y), verbose=2, shuffle=False)\n",
    "    # plot history\n",
    "    plt.plot(history.history['loss'], label='train')\n",
    "    plt.plot(history.history['val_loss'], label='test')\n",
    "    plt.legend()\n",
    "    plt.show()\n",
    "    yhat = model.predict(test_X)\n",
    "    test_X = test_X.reshape((test_X.shape[0], test_X.shape[2]))\n",
    "    # invert scaling for forecast\n",
    "    yhat = yhat[:,0]\n",
    "    # invert scaling for actual\n",
    "    test_y = test_y.values.reshape((len(test_y), 1))\n",
    "    test_y = test_y[:,0]\n",
    "    # calculate RMSE\n",
    "    rmse = np.sqrt(mean_squared_error(test_y, yhat))\n",
    "    print('Test RMSE: %.3f' % rmse)\n",
    "    print('Test R2: %.3f' % r2_score(test_y, yhat))\n",
    "    plot_results(test_y, yhat, model)\n",
    "    return({}, yhat)"
   ]
  },
  {
   "cell_type": "code",
   "execution_count": 73,
   "metadata": {},
   "outputs": [
    {
     "name": "stdout",
     "output_type": "stream",
     "text": [
      "(2085, 1, 14) (2085, 1) (522, 1, 14) (522, 1)\n",
      "Train on 2085 samples, validate on 522 samples\n",
      "Epoch 1/50\n",
      " - 8s - loss: 2.6329e-05 - val_loss: 2.2951e-05\n",
      "Epoch 2/50\n",
      " - 0s - loss: 1.1654e-05 - val_loss: 2.3394e-05\n",
      "Epoch 3/50\n",
      " - 0s - loss: 2.1890e-05 - val_loss: 1.1003e-05\n",
      "Epoch 4/50\n",
      " - 0s - loss: 1.6666e-05 - val_loss: 8.5452e-06\n",
      "Epoch 5/50\n",
      " - 0s - loss: 1.1555e-05 - val_loss: 8.2421e-06\n",
      "Epoch 6/50\n",
      " - 0s - loss: 8.5078e-06 - val_loss: 7.8162e-06\n",
      "Epoch 7/50\n",
      " - 0s - loss: 8.2127e-06 - val_loss: 7.9074e-06\n",
      "Epoch 8/50\n",
      " - 0s - loss: 7.9030e-06 - val_loss: 7.7905e-06\n",
      "Epoch 9/50\n",
      " - 0s - loss: 7.8391e-06 - val_loss: 7.6517e-06\n",
      "Epoch 10/50\n",
      " - 0s - loss: 7.8073e-06 - val_loss: 7.6942e-06\n",
      "Epoch 11/50\n",
      " - 0s - loss: 7.7859e-06 - val_loss: 7.6705e-06\n",
      "Epoch 12/50\n",
      " - 0s - loss: 7.7925e-06 - val_loss: 7.6517e-06\n",
      "Epoch 13/50\n",
      " - 0s - loss: 7.8462e-06 - val_loss: 7.6185e-06\n",
      "Epoch 14/50\n",
      " - 0s - loss: 7.9676e-06 - val_loss: 7.5894e-06\n",
      "Epoch 15/50\n",
      " - 0s - loss: 8.1389e-06 - val_loss: 7.5638e-06\n",
      "Epoch 16/50\n",
      " - 0s - loss: 8.2123e-06 - val_loss: 7.5576e-06\n",
      "Epoch 17/50\n",
      " - 0s - loss: 8.1626e-06 - val_loss: 7.5652e-06\n",
      "Epoch 18/50\n",
      " - 0s - loss: 8.0887e-06 - val_loss: 7.5768e-06\n",
      "Epoch 19/50\n",
      " - 0s - loss: 8.0394e-06 - val_loss: 7.5984e-06\n",
      "Epoch 20/50\n",
      " - 0s - loss: 8.0112e-06 - val_loss: 7.6370e-06\n",
      "Epoch 21/50\n",
      " - 0s - loss: 8.0055e-06 - val_loss: 7.6909e-06\n",
      "Epoch 22/50\n",
      " - 0s - loss: 8.0218e-06 - val_loss: 7.7471e-06\n",
      "Epoch 23/50\n",
      " - 0s - loss: 8.0488e-06 - val_loss: 7.7908e-06\n",
      "Epoch 24/50\n",
      " - 0s - loss: 8.0704e-06 - val_loss: 7.8138e-06\n",
      "Epoch 25/50\n",
      " - 0s - loss: 8.0808e-06 - val_loss: 7.8223e-06\n",
      "Epoch 26/50\n",
      " - 0s - loss: 8.0844e-06 - val_loss: 7.8280e-06\n",
      "Epoch 27/50\n",
      " - 0s - loss: 8.0872e-06 - val_loss: 7.8309e-06\n",
      "Epoch 28/50\n",
      " - 0s - loss: 8.0883e-06 - val_loss: 7.8226e-06\n",
      "Epoch 29/50\n",
      " - 0s - loss: 8.0839e-06 - val_loss: 7.7975e-06\n",
      "Epoch 30/50\n",
      " - 0s - loss: 8.0730e-06 - val_loss: 7.7682e-06\n",
      "Epoch 31/50\n",
      " - 0s - loss: 8.0624e-06 - val_loss: 7.7434e-06\n",
      "Epoch 32/50\n",
      " - 0s - loss: 8.0554e-06 - val_loss: 7.7259e-06\n",
      "Epoch 33/50\n",
      " - 0s - loss: 8.0518e-06 - val_loss: 7.7030e-06\n",
      "Epoch 34/50\n",
      " - 0s - loss: 8.0471e-06 - val_loss: 7.6673e-06\n",
      "Epoch 35/50\n",
      " - 0s - loss: 8.0416e-06 - val_loss: 7.6288e-06\n",
      "Epoch 36/50\n",
      " - 0s - loss: 8.0404e-06 - val_loss: 7.5982e-06\n",
      "Epoch 37/50\n",
      " - 0s - loss: 8.0469e-06 - val_loss: 7.5730e-06\n",
      "Epoch 38/50\n",
      " - 0s - loss: 8.0606e-06 - val_loss: 7.5444e-06\n",
      "Epoch 39/50\n",
      " - 0s - loss: 8.0882e-06 - val_loss: 7.5154e-06\n",
      "Epoch 40/50\n",
      " - 0s - loss: 8.1439e-06 - val_loss: 7.4963e-06\n",
      "Epoch 41/50\n",
      " - 0s - loss: 8.2511e-06 - val_loss: 7.4980e-06\n",
      "Epoch 42/50\n",
      " - 0s - loss: 8.4621e-06 - val_loss: 7.5640e-06\n",
      "Epoch 43/50\n",
      " - 0s - loss: 8.9414e-06 - val_loss: 7.9355e-06\n",
      "Epoch 44/50\n",
      " - 0s - loss: 1.0140e-05 - val_loss: 1.0413e-05\n",
      "Epoch 45/50\n",
      " - 0s - loss: 1.1944e-05 - val_loss: 1.2456e-05\n",
      "Epoch 46/50\n",
      " - 0s - loss: 8.6454e-06 - val_loss: 8.4994e-06\n",
      "Epoch 47/50\n",
      " - 0s - loss: 8.2705e-06 - val_loss: 7.8148e-06\n",
      "Epoch 48/50\n",
      " - 0s - loss: 7.8984e-06 - val_loss: 7.5870e-06\n",
      "Epoch 49/50\n",
      " - 0s - loss: 7.6042e-06 - val_loss: 7.5786e-06\n",
      "Epoch 50/50\n",
      " - 0s - loss: 7.5881e-06 - val_loss: 7.5798e-06\n"
     ]
    },
    {
     "data": {
      "image/png": "[encoded data removed]",
      "text/plain": [
       "<Figure size 432x288 with 1 Axes>"
      ]
     },
     "metadata": {
      "needs_background": "light"
     },
     "output_type": "display_data"
    },
    {
     "name": "stdout",
     "output_type": "stream",
     "text": [
      "Test RMSE: 0.003\n",
      "Test R2: 0.073\n",
      "[[137 179]\n",
      " [ 51 155]]\n"
     ]
    },
    {
     "name": "stderr",
     "output_type": "stream",
     "text": [
      "C:\\Users\\shubh31\\Anaconda3\\lib\\site-packages\\numpy\\core\\fromnumeric.py:90: RuntimeWarning: invalid value encountered in reduce\n",
      "  return ufunc.reduce(obj, axis, dtype, out, **passkwargs)\n"
     ]
    },
    {
     "data": {
      "text/plain": [
       "{'F1': 0.5556569158101724,\n",
       " 'Precision': 0.6242823719154988,\n",
       " 'Recall': 0.5593869731800766}"
      ]
     },
     "execution_count": 73,
     "metadata": {},
     "output_type": "execute_result"
    },
    {
     "data": {
      "image/png": "[encoded data removed]",
      "text/plain": [
       "<Figure size 432x288 with 1 Axes>"
      ]
     },
     "metadata": {
      "needs_background": "light"
     },
     "output_type": "display_data"
    }
   ],
   "source": [
    "metric = 'Close_Ret'\n",
    "do_forex_lstm('BDT', metric, True, None)"
   ]
  }
 ],
 "metadata": {
  "kernelspec": {
   "display_name": "Python 3",
   "language": "python",
   "name": "python3"
  },
  "language_info": {
   "codemirror_mode": {
    "name": "ipython",
    "version": 3
   },
   "file_extension": ".py",
   "mimetype": "text/x-python",
   "name": "python",
   "nbconvert_exporter": "python",
   "pygments_lexer": "ipython3",
   "version": "3.7.1"
  }
 },
 "nbformat": 4,
 "nbformat_minor": 2
}
