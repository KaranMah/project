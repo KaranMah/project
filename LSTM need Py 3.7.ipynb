{
 "cells": [
  {
   "cell_type": "code",
   "execution_count": 3,
   "metadata": {},
   "outputs": [],
   "source": [
    "%matplotlib inline\n",
    "\n",
    "import json\n",
    "import math\n",
    "import pprint\n",
    "import numpy as np\n",
    "import pandas as pd\n",
    "import matplotlib.pyplot as plt\n",
    "\n",
    "from sklearn.preprocessing import *\n",
    "from sklearn.model_selection import train_test_split\n",
    "from sklearn.metrics import mean_squared_error,r2_score, f1_score, precision_score, recall_score, roc_auc_score, confusion_matrix"
   ]
  },
  {
   "cell_type": "code",
   "execution_count": 60,
   "metadata": {
    "scrolled": true
   },
   "outputs": [],
   "source": [
    "from keras.models import Sequential\n",
    "from keras.layers import Dense, LSTM, Flatten, Bidirectional"
   ]
  },
  {
   "cell_type": "code",
   "execution_count": 5,
   "metadata": {},
   "outputs": [],
   "source": [
    "forex = pd.read_csv('prep_forex.csv', header=[0,1], index_col=0)\n",
    "index = pd.read_csv('prep_index.csv', header=[0,1,2], index_col=0)\n"
   ]
  },
  {
   "cell_type": "code",
   "execution_count": 29,
   "metadata": {},
   "outputs": [],
   "source": [
    "forex_pairs = list(set([x[1] for x in forex.columns if x[0] == 'Close']))\n",
    "index_pairs = list(set([(x[1], x[2]) for x in index.columns if x[0] == 'Close']))\n",
    "\n",
    "scalers = [None, MinMaxScaler, MaxAbsScaler, StandardScaler, RobustScaler, Normalizer,\n",
    "           QuantileTransformer, PowerTransformer, FunctionTransformer]\n",
    "\n",
    "metric = 'Close_Ret'\n",
    "metrics = ['Open', 'Close', 'Low', 'High', 'Volume']\n",
    "# target = [metric]\n",
    "features = ['Intraday_OC', 'Prev_close_open'] + [y+x for x in ['_Ret', '_MTD', '_YTD'] for y in metrics]# if (x+y) not in target]\n"
   ]
  },
  {
   "cell_type": "code",
   "execution_count": 7,
   "metadata": {},
   "outputs": [],
   "source": [
    "def plot_results(y_true, y_pred, model):\n",
    "    plot_df = pd.concat([pd.DataFrame(y_true), pd.DataFrame(y_pred)], axis=1, ignore_index=True)\n",
    "    plt.figure()\n",
    "    plt.plot(plot_df)\n",
    "    plt.title(\"LSTM\")"
   ]
  },
  {
   "cell_type": "code",
   "execution_count": 89,
   "metadata": {},
   "outputs": [],
   "source": [
    "def split_scale(X, y, scaler):\n",
    "    X_train, X_test, y_train, y_test = train_test_split(X, y, shuffle=False, test_size=0.2)\n",
    "    if(scaler):\n",
    "        scaler_X = scaler()\n",
    "        if(scaler == scalers[-1]):\n",
    "            scaler_X = scaler(np.log1p)\n",
    "        scaler_X = scaler_X.fit(X_train)\n",
    "        X_train = scaler_X.transform(X_train)\n",
    "        X_test = scaler_X.transform(X_test)\n",
    "        scaler_y = scaler()\n",
    "        if(scaler == scalers[-1]):\n",
    "            scaler_y = scaler(np.log1p)\n",
    "        try:\n",
    "            scaler_y = scaler_y.fit(y_train.values.reshape(-1,1))\n",
    "            y_train = scaler_y.transform(y_train.values.reshape(-1, 1))\n",
    "        except:\n",
    "            y_train = np.nan_to_num(y_train, posinf=1, neginf=-1)\n",
    "            scaler_y = scaler_y.fit(y_train.reshape(-1,1))\n",
    "            y_train = scaler_y.transform(y_train.reshape(-1, 1))\n",
    "        try:\n",
    "            y_test = scaler_y.transform(y_test.values.reshape(-1, 1))\n",
    "        except:\n",
    "            y_test = np.nan_to_num(y_test, posinf=1, neginf=-1)\n",
    "            y_test = scaler_y.transform(y_test.reshape(-1, 1))\n",
    "    return(X_train, X_test, y_train, y_test)\n",
    "\n",
    "\n",
    "def check_bins(real, pred):\n",
    "    try:\n",
    "        y_test = Binarizer().transform(pd.DataFrame(real).pct_change().dropna())\n",
    "        y_pred = Binarizer().transform(pd.DataFrame(pred).pct_change().dropna())\n",
    "    except:\n",
    "        y_test = Binarizer().transform(pd.DataFrame(real))\n",
    "        y_pred = Binarizer().transform(pd.DataFrame(pred))\n",
    "    print(confusion_matrix(y_test, y_pred))\n",
    "    return({\"F1\" :f1_score(y_test, y_pred, average='weighted'),\n",
    "        \"Precision\": precision_score(y_test, y_pred, average='weighted'),\n",
    "        \"Recall\": recall_score(y_test, y_pred, average='weighted')})\n",
    "\n",
    "def save_to_csv(real, pred):\n",
    "    save_data = pd.DataFrame(columns = ['y_true_class', 'y_pred_class', 'y_true_reg', 'y_pred_reg'], index = real.index)\n",
    "    save_data['y_true_reg'] = real.values\n",
    "    save_data['y_pred_reg'] = pred\n",
    "    if(metric[-3:] == 'Ret'):\n",
    "        save_data['y_true_class'] = np.sign(save_data['y_true_reg'])\n",
    "        save_data['y_pred_class'] = np.sign(save_data['y_pred_reg'])\n",
    "    else:\n",
    "        save_data['y_true_class'] = np.sign(save_data['y_true_reg'])\n",
    "        save_data['y_pred_class'] = np.sign(save_data['y_pred_reg'])\n",
    "    save_data.to_csv(real.columns[0][1]+\"_\"+real.columns[0][0]+\"_LSTM.csv\")"
   ]
  },
  {
   "cell_type": "code",
   "execution_count": 90,
   "metadata": {},
   "outputs": [],
   "source": [
    "def do_forex_lstm(cur, target, is_exog=False, transf = None):\n",
    "    forex_cols = [x for x in forex.columns if x[1] == cur]\n",
    "    X = forex[[col for col in forex_cols if col[0] in features + ['Time features']]][:-1]\n",
    "    y = forex[[col for col in forex_cols if col[0] == metric]].shift(-1)[:-1]\n",
    "    X_train, X_test, y_train, y_test = split_scale(X, y, transf)\n",
    "    res, y_pred = run_lstm_model((X_train, y_train), (X_test, y_test), features, target, is_exog)\n",
    "    save_to_csv(y_test, y_pred)\n",
    "    metrics = check_bins(y_test, y_pred)\n",
    "    res.update(metrics)\n",
    "    return(res)\n",
    "\n",
    "def do_index_lstm(cur, target, is_exog=False, transf = None):\n",
    "    index_cols = [x for x in index.columns if x[1] == cur[0] and x[2] == cur[1]]\n",
    "    X = index[[col for col in index_cols if col[0] in features + ['Time features']]][:-1]\n",
    "    y = index[[col for col in index_cols if col[0] == metric]].shift(-1)[:-1]\n",
    "    X = X.dropna(how='any')\n",
    "    y = y[y.index.isin(X.index)]\n",
    "    X_train, X_test, y_train, y_test = split_scale(X, y, transf)\n",
    "    res, y_pred = run_lstm_model((X_train, y_train), (X_test, y_test), features, target, is_exog)\n",
    "    save_to_csv(y_test, y_pred)\n",
    "    metrics = check_bins(y_test, y_pred)\n",
    "    return(res.update(metrics))\n"
   ]
  },
  {
   "cell_type": "code",
   "execution_count": 91,
   "metadata": {},
   "outputs": [],
   "source": [
    "def run_lstm_model(train, test, features, target, is_exog=False):\n",
    "    train_X, train_y = train\n",
    "    test_X, test_y = test\n",
    "    if(not is_exog):\n",
    "        X_train = None\n",
    "    train_X = train_X.values.reshape((train_X.shape[0], 1, train_X.shape[1]))\n",
    "    test_X = test_X.values.reshape((test_X.shape[0], 1, test_X.shape[1]))\n",
    "    print(train_X.shape, train_y.shape, test_X.shape, test_y.shape)\n",
    "    model = Sequential()\n",
    "    model.add(LSTM(100, input_shape=(train_X.shape[1], train_X.shape[2]), return_sequences=True))\n",
    "#     model.add(LSTM(100))\n",
    "    model.add(Dense(100))\n",
    "#     model.add(Dense(50))\n",
    "    model.add(Flatten())\n",
    "    model.add(Dense(1))\n",
    "    model.compile(loss='mse', optimizer='adam')\n",
    "    history = model.fit(train_X, train_y, epochs=50, batch_size=72, validation_data=(test_X, test_y), verbose=2, shuffle=False)\n",
    "    # plot history\n",
    "    plt.plot(history.history['loss'], label='train')\n",
    "    plt.plot(history.history['val_loss'], label='test')\n",
    "    plt.legend()\n",
    "    plt.show()\n",
    "    yhat = model.predict(test_X)\n",
    "    test_X = test_X.reshape((test_X.shape[0], test_X.shape[2]))\n",
    "    # invert scaling for forecast\n",
    "    yhat = yhat[:,0]\n",
    "    # invert scaling for actual\n",
    "    test_y = test_y.values.reshape((len(test_y), 1))\n",
    "    test_y = test_y[:,0]\n",
    "    # calculate RMSE\n",
    "    rmse = np.sqrt(mean_squared_error(test_y, yhat))\n",
    "    print('Test RMSE: %.3f' % rmse)\n",
    "    print('Test R2: %.3f' % r2_score(test_y, yhat))\n",
    "    plot_results(test_y, yhat, model)\n",
    "    return({}, yhat)"
   ]
  },
  {
   "cell_type": "code",
   "execution_count": 93,
   "metadata": {},
   "outputs": [
    {
     "name": "stdout",
     "output_type": "stream",
     "text": [
      "(2085, 1, 14) (2085, 1) (522, 1, 14) (522, 1)\n",
      "Train on 2085 samples, validate on 522 samples\n",
      "Epoch 1/50\n",
      " - 9s - loss: 5948.3755 - val_loss: 6915.7946\n",
      "Epoch 2/50\n",
      " - 0s - loss: 5669.3431 - val_loss: 6399.4433\n",
      "Epoch 3/50\n",
      " - 0s - loss: 4894.3431 - val_loss: 5159.8446\n",
      "Epoch 4/50\n",
      " - 0s - loss: 3387.6319 - val_loss: 3109.5720\n",
      "Epoch 5/50\n",
      " - 0s - loss: 1471.8476 - val_loss: 1025.1594\n",
      "Epoch 6/50\n",
      " - 0s - loss: 230.5005 - val_loss: 123.1149\n",
      "Epoch 7/50\n",
      " - 0s - loss: 21.5917 - val_loss: 32.5318\n",
      "Epoch 8/50\n",
      " - 0s - loss: 31.3187 - val_loss: 43.2136\n",
      "Epoch 9/50\n",
      " - 0s - loss: 27.4814 - val_loss: 44.9993\n",
      "Epoch 10/50\n",
      " - 0s - loss: 25.1571 - val_loss: 43.5336\n",
      "Epoch 11/50\n",
      " - 0s - loss: 23.8194 - val_loss: 43.0685\n",
      "Epoch 12/50\n",
      " - 0s - loss: 22.5691 - val_loss: 42.7250\n",
      "Epoch 13/50\n",
      " - 0s - loss: 21.4913 - val_loss: 42.3960\n",
      "Epoch 14/50\n",
      " - 0s - loss: 20.5950 - val_loss: 42.1342\n",
      "Epoch 15/50\n",
      " - 0s - loss: 19.8483 - val_loss: 41.9172\n",
      "Epoch 16/50\n",
      " - 0s - loss: 19.2333 - val_loss: 41.7356\n",
      "Epoch 17/50\n",
      " - 0s - loss: 18.7313 - val_loss: 41.5813\n",
      "Epoch 18/50\n",
      " - 0s - loss: 18.3259 - val_loss: 41.4485\n",
      "Epoch 19/50\n",
      " - 0s - loss: 18.0015 - val_loss: 41.3263\n",
      "Epoch 20/50\n",
      " - 0s - loss: 17.7456 - val_loss: 41.2168\n",
      "Epoch 21/50\n",
      " - 0s - loss: 17.5451 - val_loss: 41.1107\n",
      "Epoch 22/50\n",
      " - 0s - loss: 17.3917 - val_loss: 41.0080\n",
      "Epoch 23/50\n",
      " - 0s - loss: 17.2742 - val_loss: 40.9036\n",
      "Epoch 24/50\n",
      " - 0s - loss: 17.1889 - val_loss: 40.8003\n",
      "Epoch 25/50\n",
      " - 0s - loss: 17.1260 - val_loss: 40.6918\n",
      "Epoch 26/50\n",
      " - 0s - loss: 17.0827 - val_loss: 40.5796\n",
      "Epoch 27/50\n",
      " - 0s - loss: 17.0554 - val_loss: 40.4652\n",
      "Epoch 28/50\n",
      " - 0s - loss: 17.0392 - val_loss: 40.3451\n",
      "Epoch 29/50\n",
      " - 0s - loss: 17.0321 - val_loss: 40.2191\n",
      "Epoch 30/50\n",
      " - 0s - loss: 17.0344 - val_loss: 40.0931\n",
      "Epoch 31/50\n",
      " - 0s - loss: 17.0404 - val_loss: 39.9620\n",
      "Epoch 32/50\n",
      " - 0s - loss: 17.0520 - val_loss: 39.8290\n",
      "Epoch 33/50\n",
      " - 0s - loss: 17.0668 - val_loss: 39.6924\n",
      "Epoch 34/50\n",
      " - 0s - loss: 17.0843 - val_loss: 39.5546\n",
      "Epoch 35/50\n",
      " - 0s - loss: 17.1037 - val_loss: 39.4144\n",
      "Epoch 36/50\n",
      " - 0s - loss: 17.1250 - val_loss: 39.2744\n",
      "Epoch 37/50\n",
      " - 0s - loss: 17.1481 - val_loss: 39.1343\n",
      "Epoch 38/50\n",
      " - 0s - loss: 17.1713 - val_loss: 38.9926\n",
      "Epoch 39/50\n",
      " - 0s - loss: 17.1956 - val_loss: 38.8530\n",
      "Epoch 40/50\n",
      " - 0s - loss: 17.2201 - val_loss: 38.7132\n",
      "Epoch 41/50\n",
      " - 0s - loss: 17.2449 - val_loss: 38.5741\n",
      "Epoch 42/50\n",
      " - 0s - loss: 17.2694 - val_loss: 38.4361\n",
      "Epoch 43/50\n",
      " - 0s - loss: 17.2948 - val_loss: 38.2999\n",
      "Epoch 44/50\n",
      " - 0s - loss: 17.3205 - val_loss: 38.1655\n",
      "Epoch 45/50\n",
      " - 0s - loss: 17.3450 - val_loss: 38.0325\n",
      "Epoch 46/50\n",
      " - 0s - loss: 17.3697 - val_loss: 37.9014\n",
      "Epoch 47/50\n",
      " - 0s - loss: 17.3941 - val_loss: 37.7730\n",
      "Epoch 48/50\n",
      " - 0s - loss: 17.4176 - val_loss: 37.6451\n",
      "Epoch 49/50\n",
      " - 0s - loss: 17.4423 - val_loss: 37.5221\n",
      "Epoch 50/50\n",
      " - 0s - loss: 17.4655 - val_loss: 37.3995\n"
     ]
    },
    {
     "data": {
      "image/png": "[encoded data removed]",
      "text/plain": [
       "<Figure size 432x288 with 1 Axes>"
      ]
     },
     "metadata": {
      "needs_background": "light"
     },
     "output_type": "display_data"
    },
    {
     "name": "stdout",
     "output_type": "stream",
     "text": [
      "Test RMSE: 6.116\n",
      "Test R2: -100.818\n",
      "[[166 149]\n",
      " [110  96]]\n"
     ]
    },
    {
     "data": {
      "text/plain": [
       "{'F1': 0.5079707535784684,\n",
       " 'Precision': 0.5185698446949506,\n",
       " 'Recall': 0.5028790786948176}"
      ]
     },
     "execution_count": 93,
     "metadata": {},
     "output_type": "execute_result"
    },
    {
     "data": {
      "image/png": "[encoded data removed]",
      "text/plain": [
       "<Figure size 432x288 with 1 Axes>"
      ]
     },
     "metadata": {
      "needs_background": "light"
     },
     "output_type": "display_data"
    }
   ],
   "source": [
    "metric = 'Close'\n",
    "do_forex_lstm('BDT', metric, True, None)"
   ]
  }
 ],
 "metadata": {
  "kernelspec": {
   "display_name": "Python 3",
   "language": "python",
   "name": "python3"
  },
  "language_info": {
   "codemirror_mode": {
    "name": "ipython",
    "version": 3
   },
   "file_extension": ".py",
   "mimetype": "text/x-python",
   "name": "python",
   "nbconvert_exporter": "python",
   "pygments_lexer": "ipython3",
   "version": "3.7.1"
  }
 },
 "nbformat": 4,
 "nbformat_minor": 2
}
