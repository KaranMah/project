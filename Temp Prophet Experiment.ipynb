{
 "cells": [
  {
   "cell_type": "code",
   "execution_count": 3,
   "metadata": {},
   "outputs": [],
   "source": [
    "import numpy as np\n",
    "import pandas as pd\n",
    "import matplotlib.pyplot as plt\n",
    "from fbprophet import Prophet\n",
    "from sklearn.model_selection import train_test_split\n",
    "\n",
    "%matplotlib inline"
   ]
  },
  {
   "cell_type": "code",
   "execution_count": 72,
   "metadata": {},
   "outputs": [
    {
     "data": {
      "text/plain": [
       "[('INR', 'Nifty 50'), ('INR', 'BSE Sensex')]"
      ]
     },
     "execution_count": 72,
     "metadata": {},
     "output_type": "execute_result"
    }
   ],
   "source": [
    "cur = ('INR', 'Nifty 50')\n",
    "transf = None\n",
    "shuffle = False\n",
    "\n",
    "forex = pd.read_csv('prep_forex.csv', header=[0,1], index_col=0)\n",
    "index = pd.read_csv('prep_index.csv', header=[0,1,2], index_col=0)\n",
    "\n",
    "forex_pairs = list(set([x[1] for x in forex.columns if x[0] == 'Close' and x[1] == cur]))\n",
    "index_pairs = list(set([(x[1], x[2]) for x in index.columns if x[0] == 'Close' and x[1] == cur[0]]))\n",
    "\n",
    "\n",
    "metric = 'Close'\n",
    "metrics = ['Open', 'Close', 'Low', 'High']\n",
    "target = [metric]\n",
    "features = ['Intraday_HL', 'Intraday_OC', 'Prev_close_open'] + [y+x for x in ['', '_Ret', '_Ret_MA_3', '_Ret_MA_15', '_Ret_MA_45', '_MTD', '_YTD'] for y in metrics]# if (x+y) not in target]\n",
    "\n",
    "index_pairs"
   ]
  },
  {
   "cell_type": "code",
   "execution_count": 73,
   "metadata": {},
   "outputs": [],
   "source": [
    "def split_scale(X, y, scaler, shuffle=False):\n",
    "    X_train, X_test, y_train, y_test = train_test_split(X, y, shuffle=shuffle, test_size=0.2)\n",
    "    if(scaler is None):\n",
    "        return(X_train, X_test, y_train, y_test)\n",
    "    else:\n",
    "        scaler_X = scaler()\n",
    "        if(scaler == scalers[-1]):\n",
    "            scaler_X = scaler(np.log1p)\n",
    "        scaler_X = scaler_X.fit(X_train)\n",
    "        X_train = scaler_X.transform(X_train)\n",
    "        X_test = scaler_X.transform(X_test)\n",
    "        scaler_y = scaler()\n",
    "        if(scaler == scalers[-1]):\n",
    "            scaler_y = scaler(np.log1p)\n",
    "        scaler_y = scaler_y.fit(y_train)\n",
    "        y_train = scaler_y.transform(y_train)\n",
    "        y_test = scaler_y.transform(y_test)\n",
    "        return(X_train, X_test, y_train, y_test)"
   ]
  },
  {
   "cell_type": "code",
   "execution_count": 74,
   "metadata": {},
   "outputs": [],
   "source": [
    "# forex_cols = [x for x in forex.columns if x[1] == cur]\n",
    "# X = forex[[col for col in forex_cols if col[0] in features + ['Time features']]][:-1]\n",
    "# y = forex[[col for col in forex_cols if col[0] in target]].shift(-1)[:-1]\n",
    "\n",
    "index_cols = [x for x in index.columns if x[1] == cur[0] and x[2] == cur[1]]\n",
    "X = index[[col for col in index_cols if col[0] in features + ['Time features']]][:-1]\n",
    "y = index[[col for col in index_cols if col[0] in target]].shift(-1)[:-1]\n",
    "\n",
    "X_train, X_test, y_train, y_test = split_scale(X, y, transf, shuffle)"
   ]
  },
  {
   "cell_type": "code",
   "execution_count": 75,
   "metadata": {
    "scrolled": true
   },
   "outputs": [],
   "source": [
    "y_train = y_train.reset_index()\n",
    "y_train.columns = ['ds', 'y']"
   ]
  },
  {
   "cell_type": "code",
   "execution_count": 76,
   "metadata": {},
   "outputs": [
    {
     "name": "stderr",
     "output_type": "stream",
     "text": [
      "INFO:fbprophet:Disabling daily seasonality. Run prophet with daily_seasonality=True to override this.\n"
     ]
    }
   ],
   "source": [
    "m = Prophet()\n",
    "# m.add_seasonality(name='yearly', period='20', fourier_order=5)\n",
    "m.fit(y_train)\n",
    "future = m.make_future_dataframe(len(y_test))\n",
    "# future['cap'] = 8\n",
    "forecast = m.predict(future)"
   ]
  },
  {
   "cell_type": "code",
   "execution_count": 77,
   "metadata": {},
   "outputs": [
    {
     "data": {
      "text/html": [
       "<div>\n",
       "<style scoped>\n",
       "    .dataframe tbody tr th:only-of-type {\n",
       "        vertical-align: middle;\n",
       "    }\n",
       "\n",
       "    .dataframe tbody tr th {\n",
       "        vertical-align: top;\n",
       "    }\n",
       "\n",
       "    .dataframe thead th {\n",
       "        text-align: right;\n",
       "    }\n",
       "</style>\n",
       "<table border=\"1\" class=\"dataframe\">\n",
       "  <thead>\n",
       "    <tr style=\"text-align: right;\">\n",
       "      <th></th>\n",
       "      <th>y_true</th>\n",
       "      <th>y_pred</th>\n",
       "    </tr>\n",
       "    <tr>\n",
       "      <th>Date</th>\n",
       "      <th></th>\n",
       "      <th></th>\n",
       "    </tr>\n",
       "  </thead>\n",
       "  <tbody>\n",
       "    <tr>\n",
       "      <th>2010-01-01</th>\n",
       "      <td>5232.20</td>\n",
       "      <td>4987.455371</td>\n",
       "    </tr>\n",
       "    <tr>\n",
       "      <th>2010-01-04</th>\n",
       "      <td>5277.90</td>\n",
       "      <td>4987.130999</td>\n",
       "    </tr>\n",
       "    <tr>\n",
       "      <th>2010-01-05</th>\n",
       "      <td>5281.80</td>\n",
       "      <td>4991.941910</td>\n",
       "    </tr>\n",
       "    <tr>\n",
       "      <th>2010-01-06</th>\n",
       "      <td>5263.10</td>\n",
       "      <td>4995.034805</td>\n",
       "    </tr>\n",
       "    <tr>\n",
       "      <th>2010-01-07</th>\n",
       "      <td>5244.75</td>\n",
       "      <td>4998.828841</td>\n",
       "    </tr>\n",
       "  </tbody>\n",
       "</table>\n",
       "</div>"
      ],
      "text/plain": [
       "             y_true       y_pred\n",
       "Date                            \n",
       "2010-01-01  5232.20  4987.455371\n",
       "2010-01-04  5277.90  4987.130999\n",
       "2010-01-05  5281.80  4991.941910\n",
       "2010-01-06  5263.10  4995.034805\n",
       "2010-01-07  5244.75  4998.828841"
      ]
     },
     "execution_count": 77,
     "metadata": {},
     "output_type": "execute_result"
    }
   ],
   "source": [
    "res = pd.concat([y.reset_index(drop=True), forecast['yhat']], axis=1, ignore_index=True)\n",
    "res.index = y.index\n",
    "res.columns = ['y_true', 'y_pred']\n",
    "res.head()"
   ]
  },
  {
   "cell_type": "code",
   "execution_count": 78,
   "metadata": {},
   "outputs": [
    {
     "data": {
      "text/plain": [
       "<matplotlib.axes._subplots.AxesSubplot at 0x1b02f5d07b8>"
      ]
     },
     "execution_count": 78,
     "metadata": {},
     "output_type": "execute_result"
    },
    {
     "data": {
      "image/png": "[encoded data removed]",
      "text/plain": [
       "<Figure size 432x288 with 1 Axes>"
      ]
     },
     "metadata": {
      "needs_background": "light"
     },
     "output_type": "display_data"
    }
   ],
   "source": [
    "res.iloc[2000:,:].plot()"
   ]
  }
 ],
 "metadata": {
  "kernelspec": {
   "display_name": "Python 3",
   "language": "python",
   "name": "python3"
  },
  "language_info": {
   "codemirror_mode": {
    "name": "ipython",
    "version": 3
   },
   "file_extension": ".py",
   "mimetype": "text/x-python",
   "name": "python",
   "nbconvert_exporter": "python",
   "pygments_lexer": "ipython3",
   "version": "3.7.1"
  }
 },
 "nbformat": 4,
 "nbformat_minor": 2
}
