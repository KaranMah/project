{
 "cells": [
  {
   "cell_type": "code",
   "execution_count": 1,
   "metadata": {},
   "outputs": [],
   "source": [
    "%matplotlib inline\n",
    "\n",
    "import json\n",
    "import math\n",
    "import pprint\n",
    "import numpy as np\n",
    "import pandas as pd\n",
    "import matplotlib.pyplot as plt\n",
    "\n",
    "from sklearn.preprocessing import *\n",
    "from sklearn.model_selection import train_test_split\n",
    "from sklearn.metrics import mean_squared_error,r2_score, f1_score, precision_score, recall_score, roc_auc_score, confusion_matrix"
   ]
  },
  {
   "cell_type": "code",
   "execution_count": 19,
   "metadata": {
    "scrolled": true
   },
   "outputs": [],
   "source": [
    "from keras.models import Sequential\n",
    "from keras.layers import Dense, LSTM, Flatten, Bidirectional, Activation, Dropout"
   ]
  },
  {
   "cell_type": "code",
   "execution_count": 3,
   "metadata": {},
   "outputs": [],
   "source": [
    "forex = pd.read_csv('prep_forex.csv', header=[0,1], index_col=0)\n",
    "index = pd.read_csv('prep_index.csv', header=[0,1,2], index_col=0)"
   ]
  },
  {
   "cell_type": "code",
   "execution_count": 4,
   "metadata": {},
   "outputs": [],
   "source": [
    "cd_features = {\"BDT\": [None, \"VND\"], \n",
    "               \"MNT\": [None, \"LKR\"],\n",
    "               ('PKR', 'Karachi 100'): [None, \"INR\", ('JPY', 'NIkkei 225')],\n",
    "               ('LKR', 'CSE All-Share'): [None, \"IDR\", ('MNT', 'MNE Top 20')]}\n",
    "\n",
    "feats = [('PKR', 'Karachi 100'), ('LKR', 'CSE All-Share'), \"BDT\", \"MNT\"]"
   ]
  },
  {
   "cell_type": "code",
   "execution_count": 5,
   "metadata": {},
   "outputs": [],
   "source": [
    "forex_pairs = list(set([x[1] for x in forex.columns if x[0] == 'Close']))\n",
    "index_pairs = list(set([(x[1], x[2]) for x in index.columns if x[0] == 'Close']))\n",
    "\n",
    "scalers = [None, MinMaxScaler, MaxAbsScaler, StandardScaler, RobustScaler, Normalizer,\n",
    "           QuantileTransformer, PowerTransformer, FunctionTransformer]\n",
    "\n",
    "metric = 'Close'\n",
    "metrics = ['Open', 'Close', 'Low', 'High', 'Volume']\n",
    "# target = [metric]\n",
    "features = ['Intraday_OC', 'Prev_close_open'] + [y+x for x in ['', '_Ret', '_MTD', '_YTD'] for y in metrics]# if (x+y) not in target]\n"
   ]
  },
  {
   "cell_type": "code",
   "execution_count": 6,
   "metadata": {},
   "outputs": [],
   "source": [
    "def plot_results(y_true, y_pred, model):\n",
    "    plot_df = pd.concat([pd.DataFrame(y_true), pd.DataFrame(y_pred)], axis=1, ignore_index=True)\n",
    "    plt.figure()\n",
    "    plt.plot(plot_df)\n",
    "    plt.title(\"LSTM\")"
   ]
  },
  {
   "cell_type": "code",
   "execution_count": 7,
   "metadata": {},
   "outputs": [],
   "source": [
    "def split_scale(X, y, scaler):\n",
    "    X_train, X_test, y_train, y_test = train_test_split(X, y, shuffle=False, test_size=0.2)\n",
    "    if(scaler):\n",
    "        scaler_X = scaler()\n",
    "        if(scaler == scalers[-1]):\n",
    "            scaler_X = scaler(np.log1p)\n",
    "        scaler_X = scaler_X.fit(X_train)\n",
    "        X_train = scaler_X.transform(X_train)\n",
    "        X_test = scaler_X.transform(X_test)\n",
    "    return(X_train, X_test, y_train, y_test)"
   ]
  },
  {
   "cell_type": "code",
   "execution_count": 8,
   "metadata": {},
   "outputs": [],
   "source": [
    "def check_bins(real, pred):\n",
    "    try:\n",
    "        y_test = Binarizer().transform(pd.DataFrame(real).pct_change().dropna())\n",
    "        y_pred = Binarizer().transform(pd.DataFrame(pred).pct_change().dropna())\n",
    "    except:\n",
    "        y_test = Binarizer().transform(pd.DataFrame(real))\n",
    "        y_pred = Binarizer().transform(pd.DataFrame(pred))\n",
    "    print(confusion_matrix(y_test, y_pred))\n",
    "    return({\"F1\" :f1_score(y_test, y_pred, average='weighted'),\n",
    "        \"Precision\": precision_score(y_test, y_pred, average='weighted'),\n",
    "        \"Recall\": recall_score(y_test, y_pred, average='weighted')})"
   ]
  },
  {
   "cell_type": "code",
   "execution_count": 9,
   "metadata": {},
   "outputs": [],
   "source": [
    "def save_to_csv(real, pred, extra_feat, is_exog):\n",
    "    save_data = pd.DataFrame(columns = ['y_true_class', 'y_pred_class', 'y_true_reg', 'y_pred_reg'], index = real.index)\n",
    "    save_data['y_true_reg'] = real.values\n",
    "    save_data['y_pred_reg'] = pred\n",
    "    if(metric[-3:] == 'Ret'):\n",
    "        save_data['y_true_class'] = np.sign(save_data['y_true_reg'])\n",
    "        save_data['y_pred_class'] = np.sign(save_data['y_pred_reg'])\n",
    "    else:\n",
    "        save_data['y_true_class'] = np.sign(save_data['y_true_reg'].pct_change())\n",
    "        save_data['y_pred_class'] = np.sign(save_data['y_pred_reg'].pct_change())\n",
    "    try:\n",
    "        save_data.to_csv(real.columns[0][1]+\"_\"+real.columns[0][0]+\"_\"+str(extra_feat)+\"_\"+str(is_exog)+\"_LSTM.csv\")\n",
    "    except:\n",
    "        save_data.to_csv(real.columns[0][1]+\"_\"+real.columns[0][0]+\"_\"+str(is_exog)+\"_LSTM.csv\")"
   ]
  },
  {
   "cell_type": "code",
   "execution_count": 10,
   "metadata": {},
   "outputs": [],
   "source": [
    "def add_cross_domain_features(feat):\n",
    "    if(isinstance(feat, tuple)):\n",
    "        index_cols = index_cols = [x for x in index.columns if x[1] == feat[0] and x[2] == feat[1]]\n",
    "        X = index[[col for col in index_cols if col[0] in features + ['Time features']]][:-1]\n",
    "    else:\n",
    "        forex_cols = [x for x in forex.columns if x[1] == feat]\n",
    "        X = forex[[col for col in forex_cols if col[0] in features + ['Time features']]][:-1]\n",
    "    return(X)"
   ]
  },
  {
   "cell_type": "code",
   "execution_count": 11,
   "metadata": {},
   "outputs": [],
   "source": [
    "def do_forex_lstm(cur, target, extra_feat, is_exog=False, transf = None):\n",
    "    forex_cols = [x for x in forex.columns if x[1] == cur]\n",
    "    X = forex[[col for col in forex_cols if col[0] in features + ['Time features']]][:-1]\n",
    "    y = forex[[col for col in forex_cols if col[0] == metric]].shift(-1)[:-1]\n",
    "    if(extra_feat):\n",
    "            X = X.join(add_cross_domain_features(extra_feat))\n",
    "    X = X.dropna(how='all', axis=1)\n",
    "    X = X.dropna(how='any')\n",
    "    y = y[y.index.isin(X.index)]\n",
    "    X_train, X_test, y_train, y_test = split_scale(X, y, transf)\n",
    "    res, y_pred = run_lstm_model((X_train, y_train), (X_test, y_test), is_exog)\n",
    "    save_to_csv(y_test, y_pred, extra_feat, is_exog)\n",
    "    metrics = check_bins(y_test, y_pred)\n",
    "    res.update(metrics)\n",
    "    return(res)\n",
    "\n",
    "def do_index_lstm(cur, target, extra_feat, is_exog=False, transf = None):\n",
    "    index_cols = [x for x in index.columns if x[1] == cur[0] and x[2] == cur[1]]\n",
    "    X = index[[col for col in index_cols if col[0] in features + ['Time features']]][:-1]\n",
    "    y = index[[col for col in index_cols if col[0] == metric]].shift(-1)[:-1]\n",
    "    if(extra_feat):\n",
    "            X = X.join(add_cross_domain_features(extra_feat))\n",
    "    X = X.dropna(how='all', axis=1)\n",
    "#     X = X.dropna(how='any')\n",
    "    y = y[y.index.isin(X.index)]\n",
    "    pd.concat([X, y], axis=1).to_csv(\"just_checking.csv\")\n",
    "    X_train, X_test, y_train, y_test = split_scale(X, y, transf)\n",
    "    res, y_pred = run_lstm_model((X_train, y_train), (X_test, y_test), is_exog)\n",
    "    save_to_csv(y_test, y_pred, extra_feat, is_exog)\n",
    "    metrics = check_bins(y_test, y_pred)\n",
    "    return(res.update(metrics))\n"
   ]
  },
  {
   "cell_type": "code",
   "execution_count": 34,
   "metadata": {},
   "outputs": [],
   "source": [
    "def run_lstm_model(train, test, is_exog=False):\n",
    "    train_X, train_y = train\n",
    "    test_X, test_y = test\n",
    "    if(not is_exog):\n",
    "        X_train = None\n",
    "    train_X = train_X.values.reshape((train_X.shape[0], 1, train_X.shape[1]))\n",
    "    test_X = test_X.values.reshape((test_X.shape[0], 1, test_X.shape[1]))\n",
    "    print(train_X.shape, train_y.shape, test_X.shape, test_y.shape)\n",
    "    model = Sequential()\n",
    "    model.add(LSTM(100,kernel_initializer='random_uniform', input_shape=(train_X.shape[1], train_X.shape[2]), return_sequences=True))\n",
    "    model.add(Dropout(0.5))\n",
    "    #     model.add(LSTM(100))\n",
    "    model.add(Dense(100))\n",
    "    #     model.add(Dense(50))\n",
    "    model.add(Flatten())\n",
    "    model.add(Dense(1))\n",
    "    model.compile(loss='mse', optimizer='adam')\n",
    "    history = model.fit(train_X, train_y, epochs=50, batch_size=128, validation_data=(test_X, test_y), verbose=2, shuffle=False)\n",
    "    # plot history\n",
    "    plt.plot(history.history['loss'], label='train')\n",
    "    plt.plot(history.history['val_loss'], label='test')\n",
    "    plt.legend()\n",
    "    plt.show()\n",
    "    yhat = model.predict(test_X)\n",
    "    test_X = test_X.reshape((test_X.shape[0], test_X.shape[2]))\n",
    "    # invert scaling for forecast\n",
    "    yhat = yhat[:,0]\n",
    "    # invert scaling for actual\n",
    "    test_y = test_y.values.reshape((len(test_y), 1))\n",
    "    test_y = test_y[:,0]\n",
    "    # calculate RMSE\n",
    "    rmse = np.sqrt(mean_squared_error(test_y, yhat))\n",
    "    print('Test MSE: %.3f' % mean_squared_error(test_y, yhat))\n",
    "    print('Test RMSE: %.3f' % rmse)\n",
    "    print('Test R2: %.3f' % r2_score(test_y, yhat))\n",
    "    plot_results(test_y, yhat, model)\n",
    "    return({}, yhat)"
   ]
  },
  {
   "cell_type": "code",
   "execution_count": 36,
   "metadata": {},
   "outputs": [
    {
     "name": "stdout",
     "output_type": "stream",
     "text": [
      "(2085, 1, 18) (2085, 1) (522, 1, 18) (522, 1)\n",
      "Train on 2085 samples, validate on 522 samples\n",
      "Epoch 1/50\n",
      " - 4s - loss: 0.1308 - val_loss: 0.0111\n",
      "Epoch 2/50\n",
      " - 0s - loss: 0.0126 - val_loss: 9.3927e-06\n",
      "Epoch 3/50\n",
      " - 0s - loss: 0.0014 - val_loss: 3.2055e-04\n",
      "Epoch 4/50\n",
      " - 0s - loss: 4.7999e-04 - val_loss: 1.3893e-05\n",
      "Epoch 5/50\n",
      " - 0s - loss: 1.5874e-04 - val_loss: 3.8142e-05\n",
      "Epoch 6/50\n",
      " - 0s - loss: 1.0002e-04 - val_loss: 1.6395e-05\n",
      "Epoch 7/50\n",
      " - 0s - loss: 6.4127e-05 - val_loss: 9.2756e-06\n",
      "Epoch 8/50\n",
      " - 0s - loss: 4.8323e-05 - val_loss: 8.4098e-06\n",
      "Epoch 9/50\n",
      " - 0s - loss: 3.8103e-05 - val_loss: 9.2155e-06\n",
      "Epoch 10/50\n",
      " - 0s - loss: 2.8797e-05 - val_loss: 9.0557e-06\n",
      "Epoch 11/50\n",
      " - 0s - loss: 2.5786e-05 - val_loss: 8.8970e-06\n",
      "Epoch 12/50\n",
      " - 0s - loss: 2.2451e-05 - val_loss: 8.4533e-06\n",
      "Epoch 13/50\n",
      " - 0s - loss: 1.9939e-05 - val_loss: 8.6263e-06\n",
      "Epoch 14/50\n",
      " - 0s - loss: 1.7579e-05 - val_loss: 8.6161e-06\n",
      "Epoch 15/50\n",
      " - 0s - loss: 1.6573e-05 - val_loss: 8.2041e-06\n",
      "Epoch 16/50\n",
      " - 0s - loss: 1.5288e-05 - val_loss: 8.2486e-06\n",
      "Epoch 17/50\n",
      " - 0s - loss: 1.3306e-05 - val_loss: 8.1755e-06\n",
      "Epoch 18/50\n",
      " - 0s - loss: 1.3818e-05 - val_loss: 8.1755e-06\n",
      "Epoch 19/50\n",
      " - 0s - loss: 1.2923e-05 - val_loss: 8.1514e-06\n",
      "Epoch 20/50\n",
      " - 0s - loss: 1.1896e-05 - val_loss: 8.2020e-06\n",
      "Epoch 21/50\n",
      " - 0s - loss: 1.2086e-05 - val_loss: 8.2609e-06\n",
      "Epoch 22/50\n",
      " - 0s - loss: 1.1777e-05 - val_loss: 8.3199e-06\n",
      "Epoch 23/50\n",
      " - 0s - loss: 1.1418e-05 - val_loss: 8.3331e-06\n",
      "Epoch 24/50\n",
      " - 0s - loss: 1.1121e-05 - val_loss: 8.5526e-06\n",
      "Epoch 25/50\n",
      " - 0s - loss: 1.1008e-05 - val_loss: 8.6354e-06\n",
      "Epoch 26/50\n",
      " - 0s - loss: 1.0816e-05 - val_loss: 8.9018e-06\n",
      "Epoch 27/50\n",
      " - 0s - loss: 1.1011e-05 - val_loss: 8.9782e-06\n",
      "Epoch 28/50\n",
      " - 0s - loss: 1.0480e-05 - val_loss: 8.7313e-06\n",
      "Epoch 29/50\n",
      " - 0s - loss: 9.6767e-06 - val_loss: 8.4161e-06\n",
      "Epoch 30/50\n",
      " - 0s - loss: 1.0097e-05 - val_loss: 8.7925e-06\n",
      "Epoch 31/50\n",
      " - 0s - loss: 9.8488e-06 - val_loss: 8.8855e-06\n",
      "Epoch 32/50\n",
      " - 0s - loss: 1.0120e-05 - val_loss: 8.9332e-06\n",
      "Epoch 33/50\n",
      " - 0s - loss: 1.0031e-05 - val_loss: 8.3106e-06\n",
      "Epoch 34/50\n",
      " - 0s - loss: 9.5124e-06 - val_loss: 8.4262e-06\n",
      "Epoch 35/50\n",
      " - 0s - loss: 9.3077e-06 - val_loss: 8.6985e-06\n",
      "Epoch 36/50\n",
      " - 0s - loss: 9.7595e-06 - val_loss: 8.6288e-06\n",
      "Epoch 37/50\n",
      " - 0s - loss: 9.3239e-06 - val_loss: 8.6372e-06\n",
      "Epoch 38/50\n",
      " - 0s - loss: 9.5462e-06 - val_loss: 8.4949e-06\n",
      "Epoch 39/50\n",
      " - 0s - loss: 9.5277e-06 - val_loss: 8.6905e-06\n",
      "Epoch 40/50\n",
      " - 0s - loss: 9.4054e-06 - val_loss: 8.9275e-06\n",
      "Epoch 41/50\n",
      " - 0s - loss: 9.0120e-06 - val_loss: 9.1684e-06\n",
      "Epoch 42/50\n",
      " - 0s - loss: 9.2975e-06 - val_loss: 8.4795e-06\n",
      "Epoch 43/50\n",
      " - 0s - loss: 9.1662e-06 - val_loss: 8.6658e-06\n",
      "Epoch 44/50\n",
      " - 0s - loss: 9.2822e-06 - val_loss: 8.6201e-06\n",
      "Epoch 45/50\n",
      " - 0s - loss: 9.2924e-06 - val_loss: 8.3211e-06\n",
      "Epoch 46/50\n",
      " - 0s - loss: 9.2219e-06 - val_loss: 8.4779e-06\n",
      "Epoch 47/50\n",
      " - 0s - loss: 8.7665e-06 - val_loss: 8.6273e-06\n",
      "Epoch 48/50\n",
      " - 0s - loss: 9.0001e-06 - val_loss: 8.4903e-06\n",
      "Epoch 49/50\n",
      " - 0s - loss: 8.9811e-06 - val_loss: 8.2791e-06\n",
      "Epoch 50/50\n",
      " - 0s - loss: 8.6537e-06 - val_loss: 9.1075e-06\n"
     ]
    },
    {
     "data": {
      "image/png": "[encoded data removed]",
      "text/plain": [
       "<Figure size 432x288 with 1 Axes>"
      ]
     },
     "metadata": {
      "needs_background": "light"
     },
     "output_type": "display_data"
    },
    {
     "name": "stdout",
     "output_type": "stream",
     "text": [
      "Test MSE: 0.000\n",
      "Test RMSE: 0.003\n",
      "Test R2: -0.113\n",
      "[[  0 316]\n",
      " [  0 206]]\n"
     ]
    },
    {
     "name": "stderr",
     "output_type": "stream",
     "text": [
      "C:\\Users\\shubh31\\Anaconda3\\lib\\site-packages\\numpy\\core\\fromnumeric.py:90: RuntimeWarning: invalid value encountered in reduce\n",
      "  return ufunc.reduce(obj, axis, dtype, out, **passkwargs)\n",
      "C:\\Users\\shubh31\\Anaconda3\\lib\\site-packages\\sklearn\\metrics\\_classification.py:1272: UndefinedMetricWarning: Precision is ill-defined and being set to 0.0 in labels with no predicted samples. Use `zero_division` parameter to control this behavior.\n",
      "  _warn_prf(average, modifier, msg_start, len(result))\n"
     ]
    },
    {
     "data": {
      "text/plain": [
       "{'F1': 0.22333796471727504,\n",
       " 'Precision': 0.15573758459212284,\n",
       " 'Recall': 0.3946360153256705}"
      ]
     },
     "execution_count": 36,
     "metadata": {},
     "output_type": "execute_result"
    },
    {
     "data": {
      "image/png": "[encoded data removed]",
      "text/plain": [
       "<Figure size 432x288 with 1 Axes>"
      ]
     },
     "metadata": {
      "needs_background": "light"
     },
     "output_type": "display_data"
    }
   ],
   "source": [
    "cur = 'BDT'\n",
    "metric = 'Close_Ret'\n",
    "extra_feat = None\n",
    "is_exog = True\n",
    "do_forex_lstm(cur, metric, extra_feat, is_exog=is_exog)"
   ]
  },
  {
   "cell_type": "code",
   "execution_count": null,
   "metadata": {
    "scrolled": true
   },
   "outputs": [
    {
     "name": "stdout",
     "output_type": "stream",
     "text": [
      "(2085, 1, 20) (2085, 1) (522, 1, 20) (522, 1)\n",
      "Train on 2085 samples, validate on 522 samples\n",
      "Epoch 1/50\n",
      " - 14s - loss: nan - val_loss: nan\n",
      "Epoch 2/50\n",
      " - 0s - loss: nan - val_loss: nan\n",
      "Epoch 3/50\n",
      " - 0s - loss: nan - val_loss: nan\n",
      "Epoch 4/50\n",
      " - 0s - loss: nan - val_loss: nan\n",
      "Epoch 5/50\n",
      " - 0s - loss: nan - val_loss: nan\n",
      "Epoch 6/50\n",
      " - 0s - loss: nan - val_loss: nan\n",
      "Epoch 7/50\n",
      " - 0s - loss: nan - val_loss: nan\n",
      "Epoch 8/50\n",
      " - 0s - loss: nan - val_loss: nan\n",
      "Epoch 9/50\n",
      " - 0s - loss: nan - val_loss: nan\n",
      "Epoch 10/50\n",
      " - 0s - loss: nan - val_loss: nan\n",
      "Epoch 11/50\n",
      " - 0s - loss: nan - val_loss: nan\n",
      "Epoch 12/50\n"
     ]
    }
   ],
   "source": [
    "for cur in feats:\n",
    "    for extra_feat in cd_features[cur]:\n",
    "        for is_exog in [True, False]:\n",
    "            do_index_lstm(cur, metric, extra_feat, is_exog=is_exog)"
   ]
  }
 ],
 "metadata": {
  "kernelspec": {
   "display_name": "Python 3",
   "language": "python",
   "name": "python3"
  },
  "language_info": {
   "codemirror_mode": {
    "name": "ipython",
    "version": 3
   },
   "file_extension": ".py",
   "mimetype": "text/x-python",
   "name": "python",
   "nbconvert_exporter": "python",
   "pygments_lexer": "ipython3",
   "version": "3.7.1"
  }
 },
 "nbformat": 4,
 "nbformat_minor": 2
}
