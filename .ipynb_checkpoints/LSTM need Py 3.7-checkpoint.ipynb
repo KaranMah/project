{
 "cells": [
  {
   "cell_type": "code",
   "execution_count": 2,
   "metadata": {},
   "outputs": [],
   "source": [
    "%matplotlib inline\n",
    "\n",
    "import json\n",
    "import math\n",
    "import pprint\n",
    "import numpy as np\n",
    "import pandas as pd\n",
    "import matplotlib.pyplot as plt\n",
    "\n",
    "from sklearn.preprocessing import *\n",
    "from sklearn.model_selection import train_test_split\n",
    "from sklearn.metrics import mean_squared_error,r2_score, f1_score, precision_score, recall_score, roc_auc_score"
   ]
  },
  {
   "cell_type": "code",
   "execution_count": 3,
   "metadata": {},
   "outputs": [
    {
     "name": "stderr",
     "output_type": "stream",
     "text": [
      "Using TensorFlow backend.\n",
      "C:\\Users\\shubh31\\Anaconda3\\lib\\site-packages\\tensorflow\\python\\framework\\dtypes.py:526: FutureWarning: Passing (type, 1) or '1type' as a synonym of type is deprecated; in a future version of numpy, it will be understood as (type, (1,)) / '(1,)type'.\n",
      "  _np_qint8 = np.dtype([(\"qint8\", np.int8, 1)])\n",
      "C:\\Users\\shubh31\\Anaconda3\\lib\\site-packages\\tensorflow\\python\\framework\\dtypes.py:527: FutureWarning: Passing (type, 1) or '1type' as a synonym of type is deprecated; in a future version of numpy, it will be understood as (type, (1,)) / '(1,)type'.\n",
      "  _np_quint8 = np.dtype([(\"quint8\", np.uint8, 1)])\n",
      "C:\\Users\\shubh31\\Anaconda3\\lib\\site-packages\\tensorflow\\python\\framework\\dtypes.py:528: FutureWarning: Passing (type, 1) or '1type' as a synonym of type is deprecated; in a future version of numpy, it will be understood as (type, (1,)) / '(1,)type'.\n",
      "  _np_qint16 = np.dtype([(\"qint16\", np.int16, 1)])\n",
      "C:\\Users\\shubh31\\Anaconda3\\lib\\site-packages\\tensorflow\\python\\framework\\dtypes.py:529: FutureWarning: Passing (type, 1) or '1type' as a synonym of type is deprecated; in a future version of numpy, it will be understood as (type, (1,)) / '(1,)type'.\n",
      "  _np_quint16 = np.dtype([(\"quint16\", np.uint16, 1)])\n",
      "C:\\Users\\shubh31\\Anaconda3\\lib\\site-packages\\tensorflow\\python\\framework\\dtypes.py:530: FutureWarning: Passing (type, 1) or '1type' as a synonym of type is deprecated; in a future version of numpy, it will be understood as (type, (1,)) / '(1,)type'.\n",
      "  _np_qint32 = np.dtype([(\"qint32\", np.int32, 1)])\n",
      "C:\\Users\\shubh31\\Anaconda3\\lib\\site-packages\\tensorflow\\python\\framework\\dtypes.py:535: FutureWarning: Passing (type, 1) or '1type' as a synonym of type is deprecated; in a future version of numpy, it will be understood as (type, (1,)) / '(1,)type'.\n",
      "  np_resource = np.dtype([(\"resource\", np.ubyte, 1)])\n"
     ]
    }
   ],
   "source": [
    "from keras.models import Sequential\n",
    "from keras.layers import Dense\n",
    "from keras.layers import LSTM"
   ]
  },
  {
   "cell_type": "code",
   "execution_count": 58,
   "metadata": {},
   "outputs": [],
   "source": [
    "\n",
    "forex = pd.read_csv('prep_forex.csv', header=[0,1], index_col=0)\n",
    "index = pd.read_csv('prep_index.csv', header=[0,1,2], index_col=0)\n",
    "\n",
    "forex_pairs = list(set([x[1] for x in forex.columns if x[0] == 'Close']))\n",
    "index_pairs = list(set([(x[1], x[2]) for x in index.columns if x[0] == 'Close']))\n",
    "\n",
    "scalers = [None, MinMaxScaler, MaxAbsScaler, StandardScaler, RobustScaler, Normalizer,\n",
    "           QuantileTransformer, PowerTransformer, FunctionTransformer]\n",
    "\n",
    "metric = 'Close_Ret'\n",
    "metrics = ['Open', 'Close', 'Low', 'High', 'Volume']\n",
    "# target = [metric]\n",
    "features = ['Intraday_OC', 'Prev_close_open'] + [y+x for x in ['_Ret', '_MTD', '_YTD'] for y in metrics]# if (x+y) not in target]\n"
   ]
  },
  {
   "cell_type": "code",
   "execution_count": 62,
   "metadata": {},
   "outputs": [],
   "source": [
    "def plot_results(y_true, y_pred, model):\n",
    "    plot_df = pd.concat([pd.DataFrame(y_true), pd.DataFrame(y_pred)], axis=1, ignore_index=True)\n",
    "    plt.figure()\n",
    "    plt.plot(plot_df)\n",
    "    plt.title(\"LSTM\")"
   ]
  },
  {
   "cell_type": "code",
   "execution_count": 49,
   "metadata": {},
   "outputs": [],
   "source": [
    "def split_scale(X, y, scaler):\n",
    "    X_train, X_test, y_train, y_test = train_test_split(X, y, shuffle=False, test_size=0.2)\n",
    "    if(scaler):\n",
    "        scaler_X = scaler()\n",
    "        if(scaler == scalers[-1]):\n",
    "            scaler_X = scaler(np.log1p)\n",
    "        scaler_X = scaler_X.fit(X_train)\n",
    "        X_train = scaler_X.transform(X_train)\n",
    "        X_test = scaler_X.transform(X_test)\n",
    "        scaler_y = scaler()\n",
    "        if(scaler == scalers[-1]):\n",
    "            scaler_y = scaler(np.log1p)\n",
    "        try:\n",
    "            scaler_y = scaler_y.fit(y_train.values.reshape(-1,1))\n",
    "            y_train = scaler_y.transform(y_train.values.reshape(-1, 1))\n",
    "        except:\n",
    "            y_train = np.nan_to_num(y_train, posinf=1, neginf=-1)\n",
    "            scaler_y = scaler_y.fit(y_train.reshape(-1,1))\n",
    "            y_train = scaler_y.transform(y_train.reshape(-1, 1))\n",
    "        try:\n",
    "            y_test = scaler_y.transform(y_test.values.reshape(-1, 1))\n",
    "        except:\n",
    "            y_test = np.nan_to_num(y_test, posinf=1, neginf=-1)\n",
    "            y_test = scaler_y.transform(y_test.reshape(-1, 1))\n",
    "    return(X_train, X_test, y_train, y_test)\n",
    "\n",
    "\n",
    "def check_bins(real, pred):\n",
    "    y_test = Binarizer().transform(pd.DataFrame(real).pct_change().dropna())\n",
    "    y_pred = Binarizer().transform(pd.DataFrame(pred).pct_change().dropna())\n",
    "    return({\"F1\" :f1_score(y_test, y_pred, average='weighted'),\n",
    "        \"Precision\": precision_score(y_test, y_pred, average='weighted'),\n",
    "        \"Recall\": recall_score(y_test, y_pred, average='weighted')})\n"
   ]
  },
  {
   "cell_type": "code",
   "execution_count": 41,
   "metadata": {},
   "outputs": [],
   "source": [
    "def do_forex_lstm(cur, target, is_exog=False, transf = None):\n",
    "    forex_cols = [x for x in forex.columns if x[1] == cur]\n",
    "    X = forex[[col for col in forex_cols if col[0] in features + ['Time features']]][:-1]\n",
    "    y = forex[[col for col in forex_cols if col[0] in target]].shift(-1)[:-1]\n",
    "    X_train, X_test, y_train, y_test = split_scale(X, y, transf)\n",
    "    res, y_pred = run_lstm_model((X_train, y_train), (X_test, y_test), features, target, is_exog)\n",
    "    metrics = check_bins(y_test, y_pred)\n",
    "    res.update(metrics)\n",
    "    return(res)\n",
    "\n",
    "def do_index_lstm(cur, target, is_exog=False, transf = None):\n",
    "    index_cols = [x for x in index.columns if x[1] == cur[0] and x[2] == cur[1]]\n",
    "    X = index[[col for col in index_cols if col[0] in features + ['Time features']]][:-1]\n",
    "    y = index[[col for col in index_cols if col[0] in target]].shift(-1)[:-1]\n",
    "    X = X.dropna(how='any')\n",
    "    y = y[y.index.isin(X.index)]\n",
    "    X_train, X_test, y_train, y_test = split_scale(X, y, transf)\n",
    "    res, y_pred = run_lstm_model((X_train, y_train), (X_test, y_test), features, target, is_exog)\n",
    "    metrics = check_bins(y_test, y_pred)\n",
    "    return(res.update(metrics))\n"
   ]
  },
  {
   "cell_type": "code",
   "execution_count": 60,
   "metadata": {},
   "outputs": [],
   "source": [
    "def run_lstm_model(train, test, features, target, is_exog=False):\n",
    "    train_X, train_y = train\n",
    "    test_X, test_y = test\n",
    "    if(not is_exog):\n",
    "        X_train = None\n",
    "    train_X = train_X.values.reshape((train_X.shape[0], 1, train_X.shape[1]))\n",
    "    test_X = test_X.values.reshape((test_X.shape[0], 1, test_X.shape[1]))\n",
    "    print(train_X.shape, train_y.shape, test_X.shape, test_y.shape)\n",
    "    model = Sequential()\n",
    "    model.add(LSTM(50, input_shape=(train_X.shape[1], train_X.shape[2])))\n",
    "    model.add(Dense(1))\n",
    "    model.compile(loss='mae', optimizer='adam')\n",
    "    history = model.fit(train_X, train_y, epochs=50, batch_size=72, validation_data=(test_X, test_y), verbose=2, shuffle=False)\n",
    "    # plot history\n",
    "    plt.plot(history.history['loss'], label='train')\n",
    "    plt.plot(history.history['val_loss'], label='test')\n",
    "    plt.legend()\n",
    "    plt.show()\n",
    "    yhat = model.predict(test_X)\n",
    "    test_X = test_X.reshape((test_X.shape[0], test_X.shape[2]))\n",
    "    # invert scaling for forecast\n",
    "    yhat = yhat[:,0]\n",
    "    # invert scaling for actual\n",
    "    test_y = test_y.values.reshape((len(test_y), 1))\n",
    "    test_y = test_y[:,0]\n",
    "    # calculate RMSE\n",
    "    rmse = np.sqrt(mean_squared_error(test_y, yhat))\n",
    "    print('Test RMSE: %.3f' % rmse)\n",
    "    print('Test R2: %.3f' % r2_score(test_y, yhat))\n",
    "    plot_results(test_y, yhat, model)\n",
    "    return({}, yhat)"
   ]
  },
  {
   "cell_type": "code",
   "execution_count": 61,
   "metadata": {},
   "outputs": [
    {
     "name": "stdout",
     "output_type": "stream",
     "text": [
      "(2085, 1, 14) (2085, 1) (522, 1, 14) (522, 1)\n",
      "Train on 2085 samples, validate on 522 samples\n",
      "Epoch 1/50\n",
      " - 4s - loss: 77.3360 - val_loss: 83.9775\n",
      "Epoch 2/50\n",
      " - 0s - loss: 77.2088 - val_loss: 83.8268\n",
      "Epoch 3/50\n",
      " - 0s - loss: 77.0291 - val_loss: 83.6149\n",
      "Epoch 4/50\n",
      " - 0s - loss: 76.7809 - val_loss: 83.3286\n",
      "Epoch 5/50\n",
      " - 0s - loss: 76.4527 - val_loss: 82.9573\n",
      "Epoch 6/50\n",
      " - 0s - loss: 76.0340 - val_loss: 82.4913\n",
      "Epoch 7/50\n",
      " - 0s - loss: 75.5166 - val_loss: 81.9242\n",
      "Epoch 8/50\n",
      " - 0s - loss: 74.8948 - val_loss: 81.2509\n",
      "Epoch 9/50\n",
      " - 0s - loss: 74.1643 - val_loss: 80.4682\n",
      "Epoch 10/50\n",
      " - 0s - loss: 73.3236 - val_loss: 79.5757\n",
      "Epoch 11/50\n",
      " - 0s - loss: 72.3725 - val_loss: 78.5740\n",
      "Epoch 12/50\n",
      " - 0s - loss: 71.3125 - val_loss: 77.4652\n",
      "Epoch 13/50\n",
      " - 0s - loss: 70.1467 - val_loss: 76.2530\n",
      "Epoch 14/50\n",
      " - 0s - loss: 68.8793 - val_loss: 74.9420\n",
      "Epoch 15/50\n",
      " - 0s - loss: 67.5150 - val_loss: 73.5369\n",
      "Epoch 16/50\n",
      " - 0s - loss: 66.0588 - val_loss: 72.0431\n",
      "Epoch 17/50\n",
      " - 0s - loss: 64.5166 - val_loss: 70.4666\n",
      "Epoch 18/50\n",
      " - 0s - loss: 62.8937 - val_loss: 68.8117\n",
      "Epoch 19/50\n",
      " - 0s - loss: 61.1949 - val_loss: 67.0840\n",
      "Epoch 20/50\n",
      " - 0s - loss: 59.4252 - val_loss: 65.2877\n",
      "Epoch 21/50\n",
      " - 0s - loss: 57.5889 - val_loss: 63.4272\n",
      "Epoch 22/50\n",
      " - 0s - loss: 55.6903 - val_loss: 61.5066\n",
      "Epoch 23/50\n",
      " - 0s - loss: 53.7331 - val_loss: 59.5290\n",
      "Epoch 24/50\n",
      " - 0s - loss: 51.7204 - val_loss: 57.4979\n",
      "Epoch 25/50\n",
      " - 0s - loss: 49.6554 - val_loss: 55.4157\n",
      "Epoch 26/50\n",
      " - 0s - loss: 47.5402 - val_loss: 53.2848\n",
      "Epoch 27/50\n",
      " - 0s - loss: 45.3774 - val_loss: 51.1075\n",
      "Epoch 28/50\n",
      " - 0s - loss: 43.1687 - val_loss: 48.8852\n",
      "Epoch 29/50\n",
      " - 0s - loss: 40.9157 - val_loss: 46.6196\n",
      "Epoch 30/50\n",
      " - 0s - loss: 38.6202 - val_loss: 44.3126\n",
      "Epoch 31/50\n",
      " - 0s - loss: 36.2836 - val_loss: 41.9651\n",
      "Epoch 32/50\n",
      " - 0s - loss: 33.9068 - val_loss: 39.5781\n",
      "Epoch 33/50\n",
      " - 0s - loss: 31.4908 - val_loss: 37.1525\n",
      "Epoch 34/50\n",
      " - 0s - loss: 29.0366 - val_loss: 34.6893\n",
      "Epoch 35/50\n",
      " - 0s - loss: 26.5451 - val_loss: 32.1894\n",
      "Epoch 36/50\n",
      " - 0s - loss: 24.0188 - val_loss: 29.6546\n",
      "Epoch 37/50\n",
      " - 0s - loss: 21.4597 - val_loss: 27.0859\n",
      "Epoch 38/50\n",
      " - 0s - loss: 18.8686 - val_loss: 24.4834\n",
      "Epoch 39/50\n",
      " - 0s - loss: 16.2451 - val_loss: 21.8472\n",
      "Epoch 40/50\n",
      " - 0s - loss: 13.5883 - val_loss: 19.1771\n",
      "Epoch 41/50\n",
      " - 0s - loss: 10.8984 - val_loss: 16.4734\n",
      "Epoch 42/50\n",
      " - 0s - loss: 8.2439 - val_loss: 13.8222\n",
      "Epoch 43/50\n",
      " - 0s - loss: 6.8363 - val_loss: 12.2709\n",
      "Epoch 44/50\n",
      " - 0s - loss: 6.1218 - val_loss: 10.8936\n",
      "Epoch 45/50\n",
      " - 0s - loss: 5.4243 - val_loss: 9.5318\n",
      "Epoch 46/50\n",
      " - 0s - loss: 4.7283 - val_loss: 8.1715\n",
      "Epoch 47/50\n",
      " - 0s - loss: 4.0366 - val_loss: 6.8175\n",
      "Epoch 48/50\n",
      " - 0s - loss: 3.3978 - val_loss: 5.5621\n",
      "Epoch 49/50\n",
      " - 0s - loss: 3.2821 - val_loss: 5.3698\n",
      "Epoch 50/50\n",
      " - 0s - loss: 3.2913 - val_loss: 5.3727\n"
     ]
    },
    {
     "data": {
      "image/png": "[encoded data removed]",
      "text/plain": [
       "<Figure size 432x288 with 1 Axes>"
      ]
     },
     "metadata": {
      "needs_background": "light"
     },
     "output_type": "display_data"
    },
    {
     "name": "stdout",
     "output_type": "stream",
     "text": [
      "Test RMSE: 5.435\n",
      "Test R2: -79.405\n"
     ]
    },
    {
     "ename": "TypeError",
     "evalue": "__call__() missing 1 required positional argument: 'inputs'",
     "output_type": "error",
     "traceback": [
      "\u001b[1;31m---------------------------------------------------------------------------\u001b[0m",
      "\u001b[1;31mTypeError\u001b[0m                                 Traceback (most recent call last)",
      "\u001b[1;32m<ipython-input-61-d52bb0840db8>\u001b[0m in \u001b[0;36m<module>\u001b[1;34m\u001b[0m\n\u001b[1;32m----> 1\u001b[1;33m \u001b[0mdo_forex_lstm\u001b[0m\u001b[1;33m(\u001b[0m\u001b[1;34m'BDT'\u001b[0m\u001b[1;33m,\u001b[0m \u001b[1;34m'Close'\u001b[0m\u001b[1;33m,\u001b[0m \u001b[1;32mTrue\u001b[0m\u001b[1;33m,\u001b[0m \u001b[1;32mNone\u001b[0m\u001b[1;33m)\u001b[0m\u001b[1;33m\u001b[0m\u001b[1;33m\u001b[0m\u001b[0m\n\u001b[0m",
      "\u001b[1;32m<ipython-input-41-9bcb601d56a9>\u001b[0m in \u001b[0;36mdo_forex_lstm\u001b[1;34m(cur, target, is_exog, transf)\u001b[0m\n\u001b[0;32m      4\u001b[0m     \u001b[0my\u001b[0m \u001b[1;33m=\u001b[0m \u001b[0mforex\u001b[0m\u001b[1;33m[\u001b[0m\u001b[1;33m[\u001b[0m\u001b[0mcol\u001b[0m \u001b[1;32mfor\u001b[0m \u001b[0mcol\u001b[0m \u001b[1;32min\u001b[0m \u001b[0mforex_cols\u001b[0m \u001b[1;32mif\u001b[0m \u001b[0mcol\u001b[0m\u001b[1;33m[\u001b[0m\u001b[1;36m0\u001b[0m\u001b[1;33m]\u001b[0m \u001b[1;32min\u001b[0m \u001b[0mtarget\u001b[0m\u001b[1;33m]\u001b[0m\u001b[1;33m]\u001b[0m\u001b[1;33m.\u001b[0m\u001b[0mshift\u001b[0m\u001b[1;33m(\u001b[0m\u001b[1;33m-\u001b[0m\u001b[1;36m1\u001b[0m\u001b[1;33m)\u001b[0m\u001b[1;33m[\u001b[0m\u001b[1;33m:\u001b[0m\u001b[1;33m-\u001b[0m\u001b[1;36m1\u001b[0m\u001b[1;33m]\u001b[0m\u001b[1;33m\u001b[0m\u001b[1;33m\u001b[0m\u001b[0m\n\u001b[0;32m      5\u001b[0m     \u001b[0mX_train\u001b[0m\u001b[1;33m,\u001b[0m \u001b[0mX_test\u001b[0m\u001b[1;33m,\u001b[0m \u001b[0my_train\u001b[0m\u001b[1;33m,\u001b[0m \u001b[0my_test\u001b[0m \u001b[1;33m=\u001b[0m \u001b[0msplit_scale\u001b[0m\u001b[1;33m(\u001b[0m\u001b[0mX\u001b[0m\u001b[1;33m,\u001b[0m \u001b[0my\u001b[0m\u001b[1;33m,\u001b[0m \u001b[0mtransf\u001b[0m\u001b[1;33m)\u001b[0m\u001b[1;33m\u001b[0m\u001b[1;33m\u001b[0m\u001b[0m\n\u001b[1;32m----> 6\u001b[1;33m     \u001b[0mres\u001b[0m\u001b[1;33m,\u001b[0m \u001b[0my_pred\u001b[0m \u001b[1;33m=\u001b[0m \u001b[0mrun_lstm_model\u001b[0m\u001b[1;33m(\u001b[0m\u001b[1;33m(\u001b[0m\u001b[0mX_train\u001b[0m\u001b[1;33m,\u001b[0m \u001b[0my_train\u001b[0m\u001b[1;33m)\u001b[0m\u001b[1;33m,\u001b[0m \u001b[1;33m(\u001b[0m\u001b[0mX_test\u001b[0m\u001b[1;33m,\u001b[0m \u001b[0my_test\u001b[0m\u001b[1;33m)\u001b[0m\u001b[1;33m,\u001b[0m \u001b[0mfeatures\u001b[0m\u001b[1;33m,\u001b[0m \u001b[0mtarget\u001b[0m\u001b[1;33m,\u001b[0m \u001b[0mis_exog\u001b[0m\u001b[1;33m)\u001b[0m\u001b[1;33m\u001b[0m\u001b[1;33m\u001b[0m\u001b[0m\n\u001b[0m\u001b[0;32m      7\u001b[0m     \u001b[0mmetrics\u001b[0m \u001b[1;33m=\u001b[0m \u001b[0mcheck_bins\u001b[0m\u001b[1;33m(\u001b[0m\u001b[0my_test\u001b[0m\u001b[1;33m,\u001b[0m \u001b[0my_pred\u001b[0m\u001b[1;33m)\u001b[0m\u001b[1;33m\u001b[0m\u001b[1;33m\u001b[0m\u001b[0m\n\u001b[0;32m      8\u001b[0m     \u001b[0mres\u001b[0m\u001b[1;33m.\u001b[0m\u001b[0mupdate\u001b[0m\u001b[1;33m(\u001b[0m\u001b[0mmetrics\u001b[0m\u001b[1;33m)\u001b[0m\u001b[1;33m\u001b[0m\u001b[1;33m\u001b[0m\u001b[0m\n",
      "\u001b[1;32m<ipython-input-60-cef016bb9ec1>\u001b[0m in \u001b[0;36mrun_lstm_model\u001b[1;34m(train, test, features, target, is_exog)\u001b[0m\n\u001b[0;32m     28\u001b[0m     \u001b[0mprint\u001b[0m\u001b[1;33m(\u001b[0m\u001b[1;34m'Test RMSE: %.3f'\u001b[0m \u001b[1;33m%\u001b[0m \u001b[0mrmse\u001b[0m\u001b[1;33m)\u001b[0m\u001b[1;33m\u001b[0m\u001b[1;33m\u001b[0m\u001b[0m\n\u001b[0;32m     29\u001b[0m     \u001b[0mprint\u001b[0m\u001b[1;33m(\u001b[0m\u001b[1;34m'Test R2: %.3f'\u001b[0m \u001b[1;33m%\u001b[0m \u001b[0mr2_score\u001b[0m\u001b[1;33m(\u001b[0m\u001b[0mtest_y\u001b[0m\u001b[1;33m,\u001b[0m \u001b[0myhat\u001b[0m\u001b[1;33m)\u001b[0m\u001b[1;33m)\u001b[0m\u001b[1;33m\u001b[0m\u001b[1;33m\u001b[0m\u001b[0m\n\u001b[1;32m---> 30\u001b[1;33m     \u001b[0mplot_results\u001b[0m\u001b[1;33m(\u001b[0m\u001b[0mtest_y\u001b[0m\u001b[1;33m,\u001b[0m \u001b[0myhat\u001b[0m\u001b[1;33m,\u001b[0m \u001b[0mmodel\u001b[0m\u001b[1;33m)\u001b[0m\u001b[1;33m\u001b[0m\u001b[1;33m\u001b[0m\u001b[0m\n\u001b[0m\u001b[0;32m     31\u001b[0m     \u001b[1;32mreturn\u001b[0m\u001b[1;33m(\u001b[0m\u001b[1;33m{\u001b[0m\u001b[1;33m}\u001b[0m\u001b[1;33m,\u001b[0m \u001b[0myhat\u001b[0m\u001b[1;33m)\u001b[0m\u001b[1;33m\u001b[0m\u001b[1;33m\u001b[0m\u001b[0m\n",
      "\u001b[1;32m<ipython-input-54-3a14523e1d3b>\u001b[0m in \u001b[0;36mplot_results\u001b[1;34m(y_true, y_pred, model)\u001b[0m\n\u001b[0;32m      3\u001b[0m     \u001b[0mplt\u001b[0m\u001b[1;33m.\u001b[0m\u001b[0mfigure\u001b[0m\u001b[1;33m(\u001b[0m\u001b[1;33m)\u001b[0m\u001b[1;33m\u001b[0m\u001b[1;33m\u001b[0m\u001b[0m\n\u001b[0;32m      4\u001b[0m     \u001b[0mplt\u001b[0m\u001b[1;33m.\u001b[0m\u001b[0mplot\u001b[0m\u001b[1;33m(\u001b[0m\u001b[0mplot_df\u001b[0m\u001b[1;33m)\u001b[0m\u001b[1;33m\u001b[0m\u001b[1;33m\u001b[0m\u001b[0m\n\u001b[1;32m----> 5\u001b[1;33m     \u001b[0mplt\u001b[0m\u001b[1;33m.\u001b[0m\u001b[0mtitle\u001b[0m\u001b[1;33m(\u001b[0m\u001b[0mmodel\u001b[0m\u001b[1;33m(\u001b[0m\u001b[1;33m)\u001b[0m\u001b[1;33m.\u001b[0m\u001b[0m__class__\u001b[0m\u001b[1;33m.\u001b[0m\u001b[0m__name__\u001b[0m\u001b[1;33m)\u001b[0m\u001b[1;33m\u001b[0m\u001b[1;33m\u001b[0m\u001b[0m\n\u001b[0m",
      "\u001b[1;31mTypeError\u001b[0m: __call__() missing 1 required positional argument: 'inputs'"
     ]
    },
    {
     "data": {
      "image/png": "[encoded data removed]",
      "text/plain": [
       "<Figure size 432x288 with 1 Axes>"
      ]
     },
     "metadata": {
      "needs_background": "light"
     },
     "output_type": "display_data"
    }
   ],
   "source": [
    "do_forex_lstm('BDT', 'Close', True, None)"
   ]
  }
 ],
 "metadata": {
  "kernelspec": {
   "display_name": "Python 3",
   "language": "python",
   "name": "python3"
  },
  "language_info": {
   "codemirror_mode": {
    "name": "ipython",
    "version": 3
   },
   "file_extension": ".py",
   "mimetype": "text/x-python",
   "name": "python",
   "nbconvert_exporter": "python",
   "pygments_lexer": "ipython3",
   "version": "3.7.1"
  }
 },
 "nbformat": 4,
 "nbformat_minor": 2
}
